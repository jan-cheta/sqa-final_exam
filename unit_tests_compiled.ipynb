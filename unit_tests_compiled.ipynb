{
 "cells": [
  {
   "cell_type": "code",
   "execution_count": 1,
   "id": "d53654e2",
   "metadata": {},
   "outputs": [],
   "source": [
    "from selenium import webdriver\n",
    "from selenium.webdriver.common.by import By\n",
    "from selenium.webdriver.common.keys import Keys\n",
    "from selenium.webdriver.common.action_chains import ActionChains\n",
    "from selenium.webdriver.support.ui import WebDriverWait, Select\n",
    "from selenium.webdriver.support import expected_conditions as EC\n",
    "from selenium.webdriver.common.alert import Alert\n",
    "from selenium.webdriver.chrome.service import Service\n",
    "from selenium.webdriver.chrome.options import Options\n",
    "import time"
   ]
  },
  {
   "cell_type": "code",
   "execution_count": 2,
   "id": "ade83f3a",
   "metadata": {},
   "outputs": [],
   "source": [
    "chrome_options = Options()\n",
    "chrome_options.add_experimental_option(\"prefs\", {\n",
    "    \"profile.password_manager_enabled\": False,\n",
    "    \"credentials_enable_service\": False,\n",
    "    \"password_leak_detection\": False\n",
    "})\n",
    "\n",
    "driver = webdriver.Chrome(options=chrome_options)"
   ]
  },
  {
   "cell_type": "markdown",
   "id": "a7b11395",
   "metadata": {},
   "source": [
    "# TC-FR1\n",
    "Test Cases Cannot be Automated Since Function is not implemented:\n",
    "- TC-FR1-001\n",
    "- TC-FR1-002"
   ]
  },
  {
   "cell_type": "markdown",
   "id": "1409ec9c",
   "metadata": {},
   "source": [
    "# TC-FR2"
   ]
  },
  {
   "cell_type": "markdown",
   "id": "44d103c2",
   "metadata": {},
   "source": [
    "### TC-FR2-001"
   ]
  },
  {
   "cell_type": "code",
   "execution_count": 3,
   "id": "8ec8834a",
   "metadata": {},
   "outputs": [
    {
     "name": "stdout",
     "output_type": "stream",
     "text": [
      "PASSED: Login Successful with Correct Credentials\n",
      "=== Browser Console Logs ===\n",
      "SEVERE - https://events.backtrace.io/api/unique-events/submit?universe=UNIVERSE&token=TOKEN - Failed to load resource: the server responded with a status of 401 (Unauthorized)\n",
      "SEVERE - https://events.backtrace.io/api/summed-events/submit?universe=UNIVERSE&token=TOKEN - Failed to load resource: the server responded with a status of 401 (Unauthorized)\n"
     ]
    }
   ],
   "source": [
    "driver = webdriver.Chrome()\n",
    "driver.get(\"https://www.saucedemo.com/\")\n",
    "\n",
    "username_tb = driver.find_element(By.ID, \"user-name\")\n",
    "password_tb = driver.find_element(By.ID, \"password\")\n",
    "login_bt = driver.find_element(By.ID, \"login-button\")\n",
    "\n",
    "username_tb.send_keys(\"standard_user\")\n",
    "time.sleep(1)\n",
    "password_tb.send_keys(\"secret_sauce\")\n",
    "time.sleep(1)\n",
    "login_bt.click()\n",
    "time.sleep(1)\n",
    "try:\n",
    "    assert \"inventory\" in driver.current_url\n",
    "    print(\"PASSED: Login Successful with Correct Credentials\")\n",
    "except:\n",
    "    print(\"FAILED: Login Unsuccessful with Correct Credentials\") \n",
    "\n",
    "logs = driver.get_log('browser')\n",
    "print(\"=== Browser Console Logs ===\")\n",
    "for entry in logs:\n",
    "    print(f\"{entry['level']} - {entry['message']}\")\n",
    "time.sleep(1)"
   ]
  },
  {
   "cell_type": "markdown",
   "id": "85bbe03d",
   "metadata": {},
   "source": [
    "### TC-FR2-002"
   ]
  },
  {
   "cell_type": "code",
   "execution_count": null,
   "id": "3040b1f2",
   "metadata": {},
   "outputs": [
    {
     "name": "stdout",
     "output_type": "stream",
     "text": [
      "PASSED: Login Unsuccessful with Incorrect Credentials\n",
      "=== Browser Console Logs ===\n",
      "DEBUG - https://www.saucedemo.com/ - [DOM] Input elements should have autocomplete attributes (suggested: \"current-password\"): (More info: https://goo.gl/9p2vKq) %o\n"
     ]
    }
   ],
   "source": [
    "driver.get(\"https://www.saucedemo.com/\")\n",
    "\n",
    "username_tb = driver.find_element(By.ID, \"user-name\")\n",
    "password_tb = driver.find_element(By.ID, \"password\")\n",
    "login_bt = driver.find_element(By.ID, \"login-button\")\n",
    "\n",
    "username_tb.send_keys(\"malicious_user\")\n",
    "time.sleep(1)\n",
    "password_tb.send_keys(\"non_secret_sauce\")\n",
    "time.sleep(1)\n",
    "login_bt.click()\n",
    "time.sleep(1)\n",
    "\n",
    "try:\n",
    "    assert not \"inventory\" in driver.current_url\n",
    "    print(\"PASSED: Login Unsuccessful with Incorrect Credentials\")\n",
    "except:\n",
    "    print(\"FAILED: Login Successful with Incorrect Credentials\") \n",
    "\n",
    "logs = driver.get_log('browser')\n",
    "print(\"=== Browser Console Logs ===\")\n",
    "for entry in logs:\n",
    "    print(f\"{entry['level']} - {entry['message']}\")\n",
    "time.sleep(1)"
   ]
  },
  {
   "cell_type": "markdown",
   "id": "6bc18acc",
   "metadata": {},
   "source": [
    "# TC-FR3"
   ]
  },
  {
   "cell_type": "markdown",
   "id": "48fe77e4",
   "metadata": {},
   "source": [
    "### TC-FR3-001"
   ]
  },
  {
   "cell_type": "code",
   "execution_count": null,
   "id": "c73fdd0d",
   "metadata": {},
   "outputs": [
    {
     "name": "stdout",
     "output_type": "stream",
     "text": [
      "PASSED: Logout Successful\n",
      "=== Browser Console Logs ===\n",
      "SEVERE - https://www.saucedemo.com/inventory.html - Failed to load resource: the server responded with a status of 404 ()\n",
      "DEBUG - https://www.saucedemo.com/ - [DOM] Input elements should have autocomplete attributes (suggested: \"current-password\"): (More info: https://goo.gl/9p2vKq) %o\n"
     ]
    }
   ],
   "source": [
    "driver.get(\"https://www.saucedemo.com/inventory.html\")\n",
    "\n",
    "wait = WebDriverWait(driver, 10)\n",
    "burger_menu = wait.until(EC.element_to_be_clickable((By.ID, \"react-burger-menu-btn\")))\n",
    "burger_menu.click()\n",
    "time.sleep(1)\n",
    "logout_bt = wait.until(EC.element_to_be_clickable((By.ID, \"logout_sidebar_link\")))\n",
    "logout_bt.click()\n",
    "time.sleep(1)\n",
    "\n",
    "try:\n",
    "    assert \"https://www.saucedemo.com/\" == driver.current_url\n",
    "    print(\"PASSED: Logout Successful\")\n",
    "except:\n",
    "    print(\"FAILED: Logout Unsuccesful\") \n",
    "\n",
    "logs = driver.get_log('browser')\n",
    "print(\"=== Browser Console Logs ===\")\n",
    "for entry in logs:\n",
    "    print(f\"{entry['level']} - {entry['message']}\")\n",
    "time.sleep(1)"
   ]
  },
  {
   "cell_type": "markdown",
   "id": "96c345ac",
   "metadata": {},
   "source": [
    "# TC-FR4\n",
    "Test Cases Cannot be Automated Since Function is not implemented:\n",
    "- TC-FR4-001\n",
    "- TC-FR4-002\n",
    "\n",
    "# TC-FR5\n",
    "Test Cases Cannot be Automated Since Function is not implemented:\n",
    "- TC-FR5-001\n",
    "- TC-FR5-002"
   ]
  },
  {
   "cell_type": "markdown",
   "id": "9ef86d63",
   "metadata": {},
   "source": [
    "# TC-FR6"
   ]
  },
  {
   "cell_type": "markdown",
   "id": "c7c7b45c",
   "metadata": {},
   "source": [
    "### TC-FR6-001"
   ]
  },
  {
   "cell_type": "code",
   "execution_count": null,
   "id": "0607a0f8",
   "metadata": {},
   "outputs": [
    {
     "name": "stdout",
     "output_type": "stream",
     "text": [
      "session-username: standard_user\n",
      "✅ Session cookie found: session-username\n",
      "=== Browser Console Logs ===\n",
      "DEBUG - https://www.saucedemo.com/ - [DOM] Input elements should have autocomplete attributes (suggested: \"current-password\"): (More info: https://goo.gl/9p2vKq) %o\n"
     ]
    }
   ],
   "source": [
    "driver.get(\"https://www.saucedemo.com/\")\n",
    "\n",
    "username_tb = driver.find_element(By.ID, \"user-name\")\n",
    "password_tb = driver.find_element(By.ID, \"password\")\n",
    "login_bt = driver.find_element(By.ID, \"login-button\")\n",
    "\n",
    "username_tb.send_keys(\"standard_user\")\n",
    "time.sleep(1)\n",
    "password_tb.send_keys(\"secret_sauce\")\n",
    "time.sleep(1)\n",
    "login_bt.click()\n",
    "time.sleep(1)\n",
    "\n",
    "cookies = driver.get_cookies()\n",
    "\n",
    "for cookie in cookies:\n",
    "    print(f\"{cookie['name']}: {cookie['value']}\")\n",
    "\n",
    "session_cookie = next((c for c in cookies if 'session' in c['name'].lower()), None)\n",
    "\n",
    "if session_cookie:\n",
    "    print(\"✅ Session cookie found:\", session_cookie['name'])\n",
    "else:\n",
    "    print(\"❌ No session cookie found after login\")\n",
    "\n",
    "logs = driver.get_log('browser')\n",
    "print(\"=== Browser Console Logs ===\")\n",
    "for entry in logs:\n",
    "    print(f\"{entry['level']} - {entry['message']}\")\n",
    "time.sleep(1)"
   ]
  },
  {
   "cell_type": "markdown",
   "id": "461983de",
   "metadata": {},
   "source": [
    "### TC-FR6-002\n",
    "Automation Is Not Applicable"
   ]
  },
  {
   "cell_type": "markdown",
   "id": "0ecd051b",
   "metadata": {},
   "source": [
    "### TC-FR6-003"
   ]
  },
  {
   "cell_type": "code",
   "execution_count": null,
   "id": "1b33729c",
   "metadata": {},
   "outputs": [
    {
     "name": "stdout",
     "output_type": "stream",
     "text": [
      "PASSED: Session ended on logout — redirected to login\n",
      "=== Browser Console Logs ===\n",
      "SEVERE - https://www.saucedemo.com/inventory.html - Failed to load resource: the server responded with a status of 404 ()\n",
      "DEBUG - https://www.saucedemo.com/ - [DOM] Input elements should have autocomplete attributes (suggested: \"current-password\"): (More info: https://goo.gl/9p2vKq) %o\n"
     ]
    }
   ],
   "source": [
    "try:\n",
    "    assert \"inventory\" in driver.current_url\n",
    "except Exception as e:\n",
    "    print(f\"FAILED: Did not redirect to inventory.html\")\n",
    "# 2. Logout\n",
    "driver.find_element(By.ID, \"react-burger-menu-btn\").click()\n",
    "driver.implicitly_wait(2)\n",
    "driver.find_element(By.ID, \"logout_sidebar_link\").click()\n",
    "\n",
    "# 3. Try to go back to protected page\n",
    "driver.get(\"https://www.saucedemo.com/inventory.html\")\n",
    "\n",
    "# 4. Assert redirected back to login\n",
    "try:\n",
    "    assert \"saucedemo.com\" in driver.current_url\n",
    "    assert driver.find_element(By.ID, \"login-button\").is_displayed()\n",
    "    print(\"PASSED: Session ended on logout — redirected to login\")\n",
    "except Exception as e:\n",
    "    print(f\"FAILED: Session did not end on logout - stayed in inventory.html\")\n",
    "\n",
    "logs = driver.get_log('browser')\n",
    "print(\"=== Browser Console Logs ===\")\n",
    "for entry in logs:\n",
    "    print(f\"{entry['level']} - {entry['message']}\")\n",
    "time.sleep(1)"
   ]
  },
  {
   "cell_type": "markdown",
   "id": "caad3969",
   "metadata": {},
   "source": [
    "# TC-FR7"
   ]
  },
  {
   "cell_type": "markdown",
   "id": "d58a7081",
   "metadata": {},
   "source": [
    "### TC-FR7-001"
   ]
  },
  {
   "cell_type": "code",
   "execution_count": null,
   "id": "74b38467",
   "metadata": {},
   "outputs": [
    {
     "name": "stdout",
     "output_type": "stream",
     "text": [
      "PASSED: Catalog is displayed\n",
      "=== Browser Console Logs ===\n",
      "DEBUG - https://www.saucedemo.com/ - [DOM] Input elements should have autocomplete attributes (suggested: \"current-password\"): (More info: https://goo.gl/9p2vKq) %o\n"
     ]
    }
   ],
   "source": [
    "driver.get(\"https://www.saucedemo.com/\")\n",
    "\n",
    "username_tb = driver.find_element(By.ID, \"user-name\")\n",
    "password_tb = driver.find_element(By.ID, \"password\")\n",
    "login_bt = driver.find_element(By.ID, \"login-button\")\n",
    "\n",
    "username_tb.send_keys(\"standard_user\")\n",
    "time.sleep(1)\n",
    "password_tb.send_keys(\"secret_sauce\")\n",
    "time.sleep(1)\n",
    "login_bt.click()\n",
    "time.sleep(1)\n",
    "\n",
    "try:\n",
    "    assert driver.find_element(By.ID, \"inventory_container\").is_displayed()\n",
    "    print(\"PASSED: Catalog is displayed\")\n",
    "except Exception as e:\n",
    "    print(\"FAILED: Did not display catalog\")\n",
    "\n",
    "logs = driver.get_log('browser')\n",
    "print(\"=== Browser Console Logs ===\")\n",
    "for entry in logs:\n",
    "    print(f\"{entry['level']} - {entry['message']}\")\n",
    "time.sleep(1)"
   ]
  },
  {
   "cell_type": "markdown",
   "id": "5a36a914",
   "metadata": {},
   "source": [
    "### TC-FR7-002"
   ]
  },
  {
   "cell_type": "code",
   "execution_count": null,
   "id": "8a92df5b",
   "metadata": {},
   "outputs": [
    {
     "name": "stdout",
     "output_type": "stream",
     "text": [
      "PASSED: Catalog has restricted access\n",
      "=== Browser Console Logs ===\n",
      "SEVERE - https://www.saucedemo.com/inventory.html - Failed to load resource: the server responded with a status of 404 ()\n",
      "DEBUG - https://www.saucedemo.com/ - [DOM] Input elements should have autocomplete attributes (suggested: \"current-password\"): (More info: https://goo.gl/9p2vKq) %o\n",
      "SEVERE - https://www.saucedemo.com/inventory.html - Failed to load resource: the server responded with a status of 404 ()\n",
      "DEBUG - https://www.saucedemo.com/ - [DOM] Input elements should have autocomplete attributes (suggested: \"current-password\"): (More info: https://goo.gl/9p2vKq) %o\n"
     ]
    }
   ],
   "source": [
    "driver.get(\"https://www.saucedemo.com/inventory.html\")\n",
    "\n",
    "wait = WebDriverWait(driver, 10)\n",
    "burger_menu = wait.until(EC.element_to_be_clickable((By.ID, \"react-burger-menu-btn\")))\n",
    "burger_menu.click()\n",
    "time.sleep(1)\n",
    "logout_bt = wait.until(EC.element_to_be_clickable((By.ID, \"logout_sidebar_link\")))\n",
    "logout_bt.click()\n",
    "time.sleep(1)\n",
    "\n",
    "driver.get(\"https://www.saucedemo.com/inventory.html\")\n",
    "\n",
    "try:\n",
    "    assert not \"inventory\" in driver.current_url\n",
    "    print(\"PASSED: Catalog has restricted access\")\n",
    "except Exception as e:\n",
    "    print(f\"FAILED: Redirected to inventory.html\")\n",
    "\n",
    "logs = driver.get_log('browser')\n",
    "print(\"=== Browser Console Logs ===\")\n",
    "for entry in logs:\n",
    "    print(f\"{entry['level']} - {entry['message']}\")\n",
    "time.sleep(1)"
   ]
  },
  {
   "cell_type": "markdown",
   "id": "b08171a6",
   "metadata": {},
   "source": [
    "# TC-FR8\n",
    "Test Cases Cannot be Automated Since Function is not implemented:\n",
    "- TC-FR8-001\n",
    "- TC-FR8-002"
   ]
  },
  {
   "cell_type": "markdown",
   "id": "7b4ef37f",
   "metadata": {},
   "source": [
    "# TC-FR9"
   ]
  },
  {
   "cell_type": "markdown",
   "id": "7128bd68",
   "metadata": {},
   "source": [
    "### TC-FR9-001"
   ]
  },
  {
   "cell_type": "code",
   "execution_count": null,
   "id": "cbd69f86",
   "metadata": {},
   "outputs": [
    {
     "name": "stdout",
     "output_type": "stream",
     "text": [
      "PASSED: Products sorted by name A–Z successfully.\n",
      "=== Browser Console Logs ===\n",
      "DEBUG - https://www.saucedemo.com/ - [DOM] Input elements should have autocomplete attributes (suggested: \"current-password\"): (More info: https://goo.gl/9p2vKq) %o\n"
     ]
    }
   ],
   "source": [
    "driver.get(\"https://www.saucedemo.com/\")\n",
    "\n",
    "driver.find_element(By.ID, \"user-name\").send_keys(\"standard_user\")\n",
    "driver.find_element(By.ID, \"password\").send_keys(\"secret_sauce\")\n",
    "driver.find_element(By.ID, \"login-button\").click()\n",
    "\n",
    "WebDriverWait(driver, 10).until(EC.presence_of_element_located((By.CLASS_NAME, \"inventory_list\")))\n",
    "\n",
    "select_elem = Select(driver.find_element(By.CLASS_NAME, \"product_sort_container\"))\n",
    "select_elem.select_by_visible_text(\"Name (A to Z)\")\n",
    "time.sleep(1)\n",
    "\n",
    "WebDriverWait(driver, 10).until(EC.presence_of_element_located((By.CLASS_NAME, \"inventory_item_name\")))\n",
    "\n",
    "product_name_elements = driver.find_elements(By.CLASS_NAME, \"inventory_item_name\")\n",
    "product_names = [elem.text for elem in product_name_elements]\n",
    "\n",
    "sorted_names = sorted(product_names)\n",
    "try:\n",
    "    assert product_names == sorted_names\n",
    "    print(\"PASSED: Products sorted by name A–Z successfully.\")\n",
    "except:\n",
    "    f\"FAILED: Products are not sorted A–Z!\\nGot: {product_names}\"\n",
    "\n",
    "logs = driver.get_log('browser')\n",
    "print(\"=== Browser Console Logs ===\")\n",
    "for entry in logs:\n",
    "    print(f\"{entry['level']} - {entry['message']}\")\n",
    "time.sleep(1)"
   ]
  },
  {
   "cell_type": "markdown",
   "id": "f3703db7",
   "metadata": {},
   "source": [
    "### TC-FR9-002"
   ]
  },
  {
   "cell_type": "code",
   "execution_count": null,
   "id": "1e0c573f",
   "metadata": {},
   "outputs": [
    {
     "name": "stdout",
     "output_type": "stream",
     "text": [
      "PASSED: Product prices are sorted from low to high correctly.\n",
      "=== Browser Console Logs ===\n",
      "DEBUG - https://www.saucedemo.com/ - [DOM] Input elements should have autocomplete attributes (suggested: \"current-password\"): (More info: https://goo.gl/9p2vKq) %o\n"
     ]
    }
   ],
   "source": [
    "driver.get(\"https://www.saucedemo.com/\")\n",
    "\n",
    "driver.find_element(By.ID, \"user-name\").send_keys(\"standard_user\")\n",
    "driver.find_element(By.ID, \"password\").send_keys(\"secret_sauce\")\n",
    "driver.find_element(By.ID, \"login-button\").click()\n",
    "\n",
    "WebDriverWait(driver, 10).until(\n",
    "    EC.presence_of_element_located((By.CLASS_NAME, \"product_sort_container\"))\n",
    ")\n",
    "\n",
    "select = Select(driver.find_element(By.CLASS_NAME, \"product_sort_container\"))\n",
    "select.select_by_visible_text(\"Price (low to high)\")\n",
    "time.sleep(1)\n",
    "\n",
    "WebDriverWait(driver, 10).until(\n",
    "    EC.presence_of_all_elements_located((By.CLASS_NAME, \"inventory_item_price\"))\n",
    ")\n",
    "\n",
    "price_elements = driver.find_elements(By.CLASS_NAME, \"inventory_item_price\")\n",
    "price_texts = [elem.text for elem in price_elements]  # e.g., ['$7.99', '$15.99', ...]\n",
    "\n",
    "prices = [float(price.replace(\"$\", \"\")) for price in price_texts]\n",
    "\n",
    "sorted_prices = sorted(prices)\n",
    "try:\n",
    "    assert prices == sorted_prices\n",
    "    print(\"PASSED: Product prices are sorted from low to high correctly.\")\n",
    "except:\n",
    "    print(f\"FAILED: Prices are not sorted low to high!\\nGot: {prices}\")\n",
    "\n",
    "logs = driver.get_log('browser')\n",
    "print(\"=== Browser Console Logs ===\")\n",
    "for entry in logs:\n",
    "    print(f\"{entry['level']} - {entry['message']}\")\n",
    "time.sleep(1)"
   ]
  },
  {
   "cell_type": "markdown",
   "id": "0470d6fb",
   "metadata": {},
   "source": [
    "# TC-FR10"
   ]
  },
  {
   "cell_type": "markdown",
   "id": "80583aa8",
   "metadata": {},
   "source": [
    "### TC-FR10-001"
   ]
  },
  {
   "cell_type": "code",
   "execution_count": null,
   "id": "9e732eef",
   "metadata": {},
   "outputs": [
    {
     "name": "stdout",
     "output_type": "stream",
     "text": [
      "PASSED: Product detail view is shown correctly.\n"
     ]
    }
   ],
   "source": [
    "driver.get(\"https://www.saucedemo.com/\")\n",
    "\n",
    "driver.find_element(By.ID, \"user-name\").send_keys(\"standard_user\")\n",
    "driver.find_element(By.ID, \"password\").send_keys(\"secret_sauce\")\n",
    "driver.find_element(By.ID, \"login-button\").click()\n",
    "\n",
    "WebDriverWait(driver, 10).until(\n",
    "    EC.presence_of_element_located((By.CLASS_NAME, \"inventory_item\"))\n",
    ")\n",
    "\n",
    "first_product = driver.find_element(By.CLASS_NAME, \"inventory_item_name\")\n",
    "first_product_text = first_product.text\n",
    "first_product.click()\n",
    "time.sleep(1)\n",
    "\n",
    "WebDriverWait(driver, 10).until(\n",
    "    EC.presence_of_element_located((By.CLASS_NAME, \"inventory_details_name\"))\n",
    ")\n",
    "\n",
    "detail_name = driver.find_element(By.CLASS_NAME, \"inventory_details_name\").text\n",
    "detail_description = driver.find_element(By.CLASS_NAME, \"inventory_details_desc\").text\n",
    "detail_price = driver.find_element(By.CLASS_NAME, \"inventory_details_price\").text\n",
    "add_to_cart = driver.find_element(By.CLASS_NAME, \"btn_inventory\")\n",
    "\n",
    "try:\n",
    "    assert detail_name == first_product_text\n",
    "    assert detail_description != \"\"\n",
    "    assert detail_price.startswith(\"$\")\n",
    "    assert add_to_cart.is_displayed()\n",
    "    print(\"PASSED: Product detail view is shown correctly.\")\n",
    "except AssertionError:\n",
    "    print(\"FAILED: One or more product detail checks failed.\")\n",
    "time.sleep(1)\n"
   ]
  },
  {
   "cell_type": "markdown",
   "id": "8eff38f3",
   "metadata": {},
   "source": [
    "# TC-FR11"
   ]
  },
  {
   "cell_type": "markdown",
   "id": "b55ed1af",
   "metadata": {},
   "source": [
    "### TC-FR11-001"
   ]
  },
  {
   "cell_type": "code",
   "execution_count": null,
   "id": "5e146d9b",
   "metadata": {},
   "outputs": [],
   "source": [
    "driver.get(\"https://www.saucedemo.com/\")\n",
    "\n",
    "driver.find_element(By.ID, \"user-name\").send_keys(\"standard_user\")\n",
    "driver.find_element(By.ID, \"password\").send_keys(\"secret_sauce\")\n",
    "driver.find_element(By.ID, \"login-button\").click()\n",
    "\n",
    "WebDriverWait(driver, 10).until(\n",
    "    EC.presence_of_element_located((By.CLASS_NAME, \"inventory_item\"))\n",
    ")\n",
    "\n",
    "first_product = driver.find_element(By.CLASS_NAME, \"inventory_item_name\")\n",
    "first_product_name = first_product.text\n",
    "first_product.click()\n",
    "\n",
    "WebDriverWait(driver, 10).until(\n",
    "    EC.presence_of_element_located((By.CLASS_NAME, \"inventory_details_name\"))\n",
    ")\n",
    "\n",
    "add_button = driver.find_element(By.CLASS_NAME, \"btn_inventory\")\n",
    "add_button.click()\n",
    "\n",
    "# Wait for cart badge to appear\n",
    "WebDriverWait(driver, 5).until(\n",
    "    EC.presence_of_element_located((By.CLASS_NAME, \"shopping_cart_badge\"))\n",
    ")\n",
    "\n",
    "# Validate cart badge shows \"1\"\n",
    "try:\n",
    "    cart_badge = driver.find_element(By.CLASS_NAME, \"shopping_cart_badge\")\n",
    "    cart_count = cart_badge.text\n",
    "    assert cart_count == \"1\"\n",
    "    print(f\"PASSED: Product '{first_product_name}' successfully added to cart. Cart count: {cart_count}\")\n",
    "except AssertionError:\n",
    "    print(f\"FAILED: Expected cart count to be 1 but got {cart_count}\")\n",
    "\n",
    "time.sleep(1)\n"
   ]
  },
  {
   "cell_type": "markdown",
   "id": "6ddeb9fe",
   "metadata": {},
   "source": [
    "### TC-FR11-002"
   ]
  },
  {
   "cell_type": "code",
   "execution_count": null,
   "id": "dcc976f4",
   "metadata": {},
   "outputs": [],
   "source": [
    "driver.get(\"https://www.saucedemo.com/\")\n",
    "\n",
    "driver.find_element(By.ID, \"user-name\").send_keys(\"standard_user\")\n",
    "driver.find_element(By.ID, \"password\").send_keys(\"secret_sauce\")\n",
    "driver.find_element(By.ID, \"login-button\").click()\n",
    "\n",
    "WebDriverWait(driver, 10).until(\n",
    "    EC.presence_of_element_located((By.CLASS_NAME, \"inventory_item\"))\n",
    ")\n",
    "\n",
    "driver.find_element(By.ID, \"add-to-cart-sauce-labs-backpack\").click()\n",
    "time.sleep(0.5)\n",
    "\n",
    "driver.find_element(By.ID, \"add-to-cart-sauce-labs-bike-light\").click()\n",
    "time.sleep(0.5)\n",
    "\n",
    "driver.find_element(By.ID, \"add-to-cart-sauce-labs-bolt-t-shirt\").click()\n",
    "time.sleep(0.5)\n",
    "\n",
    "try:\n",
    "    WebDriverWait(driver, 5).until(\n",
    "        EC.presence_of_element_located((By.CLASS_NAME, \"shopping_cart_badge\"))\n",
    "    )\n",
    "    cart_badge = driver.find_element(By.CLASS_NAME, \"shopping_cart_badge\")\n",
    "    cart_count = cart_badge.text\n",
    "\n",
    "    assert cart_count == \"3\"\n",
    "    print(f\"PASSED: Cart icon correctly shows 3 items. Cart count: {cart_count}\")\n",
    "except AssertionError:\n",
    "    print(f\"FAILED: Expected cart count to be 3 but got {cart_count}\")\n",
    "\n",
    "time.sleep(1)"
   ]
  },
  {
   "cell_type": "markdown",
   "id": "dda94388",
   "metadata": {},
   "source": [
    "# TC-FR12"
   ]
  },
  {
   "cell_type": "markdown",
   "id": "b19e044c",
   "metadata": {},
   "source": [
    "### TC-FR12-001"
   ]
  },
  {
   "cell_type": "code",
   "execution_count": null,
   "id": "16a021eb",
   "metadata": {},
   "outputs": [
    {
     "name": "stdout",
     "output_type": "stream",
     "text": [
      "PASS\n",
      "\n",
      "Browser Console Logs:\n",
      "{'level': 'SEVERE', 'message': 'https://events.backtrace.io/api/unique-events/submit?universe=UNIVERSE&token=TOKEN - Failed to load resource: the server responded with a status of 401 (Unauthorized)', 'source': 'network', 'timestamp': 1753199138061}\n"
     ]
    }
   ],
   "source": [
    "driver = webdriver.Chrome(options=options)\n",
    "driver.get('https://www.saucedemo.com/')\n",
    "\n",
    "name_input = driver.find_element(By.NAME, \"user-name\")\n",
    "name_input.send_keys(\"standard_user\")\n",
    "\n",
    "password_input= driver.find_element(By.NAME, \"password\")\n",
    "password_input.send_keys(\"secret_sauce\")\n",
    "\n",
    "driver.find_element(By.NAME, \"login-button\").click()\n",
    "\n",
    "driver.find_element(By.ID, \"add-to-cart-sauce-labs-backpack\").click()\n",
    "driver.find_element(By.ID, \"add-to-cart-sauce-labs-bike-light\").click()\n",
    "time.sleep(1)\n",
    "driver.find_element(By.CLASS_NAME, \"btn_secondary\").click()\n",
    "driver.find_element(By.CLASS_NAME, \"btn_secondary\").click()\n",
    "try:\n",
    "     assert \"inventory.html\" in driver.current_url\n",
    "     print(\"PASS\")\n",
    "except Exception as e:\n",
    "     print(\"FAIL\")\n",
    "     print(\"Error:\", e)\n",
    "finally:\n",
    "    if driver:\n",
    "          try:\n",
    "            logs = driver.get_log('browser')\n",
    "            print(\"\\nBrowser Console Logs:\")\n",
    "            for log in logs:\n",
    "                print(log)\n",
    "          except Exception as log_error:\n",
    "            print(\"Could not retrieve browser logs.\")\n",
    "            print(\"Log Error:\", log_error)\n",
    "time.sleep(2)\n",
    "driver.quit()"
   ]
  },
  {
   "cell_type": "markdown",
   "id": "bf2ea4f5",
   "metadata": {},
   "source": [
    "### TC-FR12-002\n"
   ]
  },
  {
   "cell_type": "code",
   "execution_count": null,
   "id": "0cec96d6",
   "metadata": {},
   "outputs": [
    {
     "name": "stdout",
     "output_type": "stream",
     "text": [
      "FAIL\n",
      "Error: \n",
      "\n",
      "Browser Console Logs:\n",
      "{'level': 'SEVERE', 'message': 'https://events.backtrace.io/api/unique-events/submit?universe=UNIVERSE&token=TOKEN - Failed to load resource: the server responded with a status of 401 (Unauthorized)', 'source': 'network', 'timestamp': 1753199217037}\n"
     ]
    }
   ],
   "source": [
    "driver = webdriver.Chrome(options=options)\n",
    "driver.get('https://www.saucedemo.com/')\n",
    "\n",
    "name_input = driver.find_element(By.NAME, \"user-name\")\n",
    "name_input.send_keys(\"standard_user\")\n",
    "\n",
    "password_input= driver.find_element(By.NAME, \"password\")\n",
    "password_input.send_keys(\"secret_sauce\")\n",
    "\n",
    "driver.find_element(By.NAME, \"login-button\").click()\n",
    "\n",
    "driver.find_element(By.ID, \"add-to-cart-sauce-labs-backpack\").click()\n",
    "\n",
    "driver.find_element(By.CLASS_NAME, \"shopping_cart_link\").click()\n",
    "time.sleep(1)\n",
    "driver.find_element(By.CLASS_NAME, \"cart_button\").click()\n",
    "\n",
    "try:\n",
    "    assert \"checkout-step-one.html\" in driver.current_url\n",
    "    print(\"PASS\")\n",
    "\n",
    "except Exception as e:\n",
    "    print(\"FAIL\")\n",
    "    print(\"Error:\", e)\n",
    "\n",
    "finally:\n",
    "    if driver:\n",
    "        try:\n",
    "            logs = driver.get_log('browser')\n",
    "            print(\"\\nBrowser Console Logs:\")\n",
    "            for log in logs:\n",
    "                print(log)\n",
    "        except Exception as log_error:\n",
    "            print(\"Could not retrieve browser logs.\")\n",
    "            print(\"Log Error:\", log_error)\n",
    "\n",
    "time.sleep(2)\n",
    "driver.quit()"
   ]
  },
  {
   "cell_type": "markdown",
   "id": "093101f6",
   "metadata": {},
   "source": [
    "# TC-FR13\n"
   ]
  },
  {
   "cell_type": "markdown",
   "id": "c63b5703",
   "metadata": {},
   "source": [
    "### TC-FR13-001"
   ]
  },
  {
   "cell_type": "code",
   "execution_count": null,
   "id": "052743c0",
   "metadata": {},
   "outputs": [
    {
     "name": "stdout",
     "output_type": "stream",
     "text": [
      "PASS\n"
     ]
    }
   ],
   "source": [
    "driver = webdriver.Chrome(options=options)\n",
    "driver.get('https://www.saucedemo.com/')\n",
    "\n",
    "name_input = driver.find_element(By.NAME, \"user-name\")\n",
    "name_input.send_keys(\"standard_user\")\n",
    "\n",
    "password_input= driver.find_element(By.NAME, \"password\")\n",
    "password_input.send_keys(\"secret_sauce\")\n",
    "\n",
    "driver.find_element(By.NAME, \"login-button\").click()\n",
    "\n",
    "driver.find_element(By.ID, \"add-to-cart-sauce-labs-backpack\").click()\n",
    "driver.find_element(By.ID, \"add-to-cart-sauce-labs-bike-light\").click()\n",
    "driver.find_element(By.ID, \"add-to-cart-test.allthethings()-t-shirt-(red)\").click()\n",
    "\n",
    "driver.find_element(By.CLASS_NAME, \"shopping_cart_link\").click()\n",
    "\n",
    "try:\n",
    "    assert \"cart.html\" in driver.current_url\n",
    "    print(\"PASS\")\n",
    "\n",
    "except Exception as e:\n",
    "    print(\"FAIL\")\n",
    "    print(\"Error:\", e)"
   ]
  },
  {
   "cell_type": "markdown",
   "id": "d68347e5",
   "metadata": {},
   "source": [
    "### TC-FR13-002 N/A\n"
   ]
  },
  {
   "cell_type": "markdown",
   "id": "c1f071c9",
   "metadata": {},
   "source": [
    "### TC-FR13-003\n"
   ]
  },
  {
   "cell_type": "code",
   "execution_count": null,
   "id": "20c5d755",
   "metadata": {},
   "outputs": [
    {
     "name": "stdout",
     "output_type": "stream",
     "text": [
      "PASS\n",
      "\n",
      "Browser Console Logs:\n",
      "{'level': 'SEVERE', 'message': 'https://events.backtrace.io/api/unique-events/submit?universe=UNIVERSE&token=TOKEN - Failed to load resource: the server responded with a status of 401 (Unauthorized)', 'source': 'network', 'timestamp': 1753199467905}\n",
      "{'level': 'SEVERE', 'message': 'https://events.backtrace.io/api/summed-events/submit?universe=UNIVERSE&token=TOKEN - Failed to load resource: the server responded with a status of 401 (Unauthorized)', 'source': 'network', 'timestamp': 1753199467905}\n"
     ]
    }
   ],
   "source": [
    "driver.find_element(By.CLASS_NAME, \"cart_button\").click()\n",
    "driver.find_element(By.CLASS_NAME, \"cart_button\").click()\n",
    "driver.find_element(By.CLASS_NAME, \"cart_button\").click()\n",
    "\n",
    "try:\n",
    "    assert \"cart.html\" in driver.current_url\n",
    "    print(\"PASS\")\n",
    "\n",
    "except Exception as e:\n",
    "    print(\"FAIL\")\n",
    "    print(\"Error:\", e)\n",
    "\n",
    "finally:\n",
    "    if driver:\n",
    "        try:\n",
    "            logs = driver.get_log('browser')\n",
    "            print(\"\\nBrowser Console Logs:\")\n",
    "            for log in logs:\n",
    "                print(log)\n",
    "        except Exception as log_error:\n",
    "            print(\"Could not retrieve browser logs.\")\n",
    "            print(\"Log Error:\", log_error)\n",
    "\n",
    "time.sleep(2)\n",
    "driver.quit()"
   ]
  },
  {
   "cell_type": "markdown",
   "id": "2366a44a",
   "metadata": {},
   "source": [
    "# TC-FR14\n"
   ]
  },
  {
   "cell_type": "markdown",
   "id": "9a9b6f09",
   "metadata": {},
   "source": [
    "### TC-FR14-001"
   ]
  },
  {
   "cell_type": "code",
   "execution_count": null,
   "id": "a7d1a2eb",
   "metadata": {},
   "outputs": [
    {
     "name": "stdout",
     "output_type": "stream",
     "text": [
      "PASS\n",
      "\n",
      "Browser Console Logs:\n"
     ]
    }
   ],
   "source": [
    "driver = webdriver.Chrome(options=options)\n",
    "driver.get('https://www.saucedemo.com/')\n",
    "\n",
    "name_input = driver.find_element(By.NAME, \"user-name\")\n",
    "name_input.send_keys(\"standard_user\")\n",
    "\n",
    "password_input= driver.find_element(By.NAME, \"password\")\n",
    "password_input.send_keys(\"secret_sauce\")\n",
    "\n",
    "driver.find_element(By.NAME, \"login-button\").click()\n",
    "\n",
    "driver.find_element(By.ID, \"add-to-cart-sauce-labs-backpack\").click()\n",
    "driver.find_element(By.ID, \"add-to-cart-sauce-labs-bike-light\").click()\n",
    "driver.find_element(By.ID, \"add-to-cart-test.allthethings()-t-shirt-(red)\").click()\n",
    "\n",
    "driver.find_element(By.CLASS_NAME, \"shopping_cart_link\").click()\n",
    "driver.find_element(By.ID, \"checkout\").click()\n",
    "\n",
    "first_name_input = driver.find_element(By.NAME, \"firstName\")\n",
    "first_name_input.send_keys(\"standard\")\n",
    "\n",
    "last_name_input = driver.find_element(By.NAME, \"lastName\")\n",
    "last_name_input.send_keys(\"user\")\n",
    "\n",
    "zip = driver.find_element(By.NAME, \"postalCode\")\n",
    "zip.send_keys(\"1999\")\n",
    "\n",
    "driver.find_element(By.ID, \"continue\").click()\n",
    "\n",
    "try:\n",
    "    assert \"checkout-step-two.html\" in driver.current_url\n",
    "    print(\"PASS\")\n",
    "\n",
    "except Exception as e:\n",
    "    print(\"FAIL\")\n",
    "    print(\"Error:\", e)\n",
    "\n",
    "finally:\n",
    "    if driver:\n",
    "        try:\n",
    "            logs = driver.get_log('browser')\n",
    "            print(\"\\nBrowser Console Logs:\")\n",
    "            for log in logs:\n",
    "                print(log)\n",
    "        except Exception as log_error:\n",
    "            print(\"Could not retrieve browser logs.\")\n",
    "            print(\"Log Error:\", log_error)\n",
    "\n",
    "time.sleep(2)\n",
    "driver.quit()"
   ]
  },
  {
   "cell_type": "markdown",
   "id": "7ea0e975",
   "metadata": {},
   "source": [
    "### TC-FR14-002\n"
   ]
  },
  {
   "cell_type": "code",
   "execution_count": null,
   "id": "6aabc509",
   "metadata": {},
   "outputs": [
    {
     "name": "stdout",
     "output_type": "stream",
     "text": [
      "PASS\n",
      "\n",
      "Browser Console Logs:\n"
     ]
    }
   ],
   "source": [
    "driver = webdriver.Chrome(options=options)\n",
    "driver.get('https://www.saucedemo.com/')\n",
    "\n",
    "name_input = driver.find_element(By.NAME, \"user-name\")\n",
    "name_input.send_keys(\"standard_user\")\n",
    "\n",
    "password_input= driver.find_element(By.NAME, \"password\")\n",
    "password_input.send_keys(\"secret_sauce\")\n",
    "\n",
    "driver.find_element(By.NAME, \"login-button\").click()\n",
    "\n",
    "driver.find_element(By.ID, \"add-to-cart-sauce-labs-backpack\").click()\n",
    "driver.find_element(By.ID, \"add-to-cart-sauce-labs-bike-light\").click()\n",
    "driver.find_element(By.ID, \"add-to-cart-test.allthethings()-t-shirt-(red)\").click()\n",
    "\n",
    "driver.find_element(By.CLASS_NAME, \"shopping_cart_link\").click()\n",
    "driver.find_element(By.ID, \"checkout\").click()\n",
    "\n",
    "driver.find_element(By.ID, \"continue\").click()\n",
    "\n",
    "try:\n",
    "    error = driver.find_element(By.CLASS_NAME, \"error-message-container\")\n",
    "    assert error.is_displayed()\n",
    "    print(\"PASS\")\n",
    "\n",
    "except Exception as e:\n",
    "    print(\"FAIL\")\n",
    "    print(\"Error:\", e)\n",
    "\n",
    "finally:\n",
    "    if driver:\n",
    "        try:\n",
    "            logs = driver.get_log('browser')\n",
    "            print(\"\\nBrowser Console Logs:\")\n",
    "            for log in logs:\n",
    "                print(log)\n",
    "        except Exception as log_error:\n",
    "            print(\"Could not retrieve browser logs.\")\n",
    "            print(\"Log Error:\", log_error)"
   ]
  },
  {
   "cell_type": "markdown",
   "id": "6472e0d2",
   "metadata": {},
   "source": [
    "### TC-FR14-003\n"
   ]
  },
  {
   "cell_type": "code",
   "execution_count": null,
   "id": "ef7422cf",
   "metadata": {},
   "outputs": [
    {
     "name": "stdout",
     "output_type": "stream",
     "text": [
      "FAIL — Invalid postal code was accepted\n",
      "\n",
      "Browser Console Logs:\n",
      "{'level': 'SEVERE', 'message': 'https://events.backtrace.io/api/unique-events/submit?universe=UNIVERSE&token=TOKEN - Failed to load resource: the server responded with a status of 401 (Unauthorized)', 'source': 'network', 'timestamp': 1753203064458}\n",
      "{'level': 'SEVERE', 'message': 'https://events.backtrace.io/api/summed-events/submit?universe=UNIVERSE&token=TOKEN - Failed to load resource: the server responded with a status of 401 (Unauthorized)', 'source': 'network', 'timestamp': 1753203064458}\n"
     ]
    }
   ],
   "source": [
    "first_name_input = driver.find_element(By.NAME, \"firstName\")\n",
    "first_name_input.send_keys(\"standard\")\n",
    "\n",
    "last_name_input = driver.find_element(By.NAME, \"lastName\")\n",
    "last_name_input.send_keys(\"user\")\n",
    "\n",
    "zip = driver.find_element(By.NAME, \"postalCode\")\n",
    "zip.send_keys(\"aa@@#\")\n",
    "\n",
    "driver.find_element(By.ID, \"continue\").click()\n",
    "\n",
    "try:\n",
    "    if \"checkout-step-two.html\" in driver.current_url:\n",
    "        print(\"FAIL — Invalid postal code was accepted\")\n",
    "    else:\n",
    "        print(\"PASS — Stayed on form, likely rejected input (visually)\")\n",
    "\n",
    "except Exception as e:\n",
    "    print(\"FAIL\")\n",
    "    print(\"Error:\", e)\n",
    "\n",
    "finally:\n",
    "    if driver:\n",
    "        try:\n",
    "            logs = driver.get_log('browser')\n",
    "            print(\"\\nBrowser Console Logs:\")\n",
    "            for log in logs:\n",
    "                print(log)\n",
    "        except Exception as log_error:\n",
    "            print(\"Could not retrieve browser logs.\")\n",
    "            print(\"Log Error:\", log_error)\n",
    "\n",
    "time.sleep(2)\n",
    "driver.quit()"
   ]
  },
  {
   "cell_type": "markdown",
   "id": "0cab9560",
   "metadata": {},
   "source": [
    "### TC-FR14-004\n"
   ]
  },
  {
   "cell_type": "code",
   "execution_count": null,
   "id": "9d020bdc",
   "metadata": {},
   "outputs": [
    {
     "name": "stdout",
     "output_type": "stream",
     "text": [
      "PASS — Successfully completed checkout without any cart items\n",
      "\n",
      "Browser Console Logs:\n"
     ]
    }
   ],
   "source": [
    "driver = webdriver.Chrome(options=options)\n",
    "driver.get('https://www.saucedemo.com/')\n",
    "\n",
    "name_input = driver.find_element(By.NAME, \"user-name\")\n",
    "name_input.send_keys(\"standard_user\")\n",
    "\n",
    "password_input= driver.find_element(By.NAME, \"password\")\n",
    "password_input.send_keys(\"secret_sauce\")\n",
    "\n",
    "driver.find_element(By.NAME, \"login-button\").click()\n",
    "\n",
    "driver.find_element(By.CLASS_NAME, \"shopping_cart_link\").click()\n",
    "driver.find_element(By.ID, \"checkout\").click()\n",
    "\n",
    "first_name_input = driver.find_element(By.NAME, \"firstName\")\n",
    "first_name_input.send_keys(\"standard\")\n",
    "\n",
    "last_name_input = driver.find_element(By.NAME, \"lastName\")\n",
    "last_name_input.send_keys(\"user\")\n",
    "\n",
    "zip = driver.find_element(By.NAME, \"postalCode\")\n",
    "zip.send_keys(\"1999\")\n",
    "\n",
    "driver.find_element(By.ID, \"continue\").click()\n",
    "driver.find_element(By.ID, \"finish\").click()\n",
    "\n",
    "try:\n",
    "    assert \"checkout-complete.html\" in driver.current_url\n",
    "    print(\"PASS — Successfully completed checkout without any cart items\")\n",
    "\n",
    "except Exception as e:\n",
    "    print(\"FAIL\")\n",
    "    print(\"Error:\", e)\n",
    "\n",
    "finally:\n",
    "    if driver:\n",
    "        try:\n",
    "            logs = driver.get_log('browser')\n",
    "            print(\"\\nBrowser Console Logs:\")\n",
    "            for log in logs:\n",
    "                print(log)\n",
    "        except Exception as log_error:\n",
    "            print(\"Could not retrieve browser logs.\")\n",
    "            print(\"Log Error:\", log_error)\n",
    "\n",
    "\n",
    "time.sleep(2)\n",
    "driver.quit()"
   ]
  },
  {
   "cell_type": "markdown",
   "id": "92b0698c",
   "metadata": {},
   "source": [
    "# TC-FR15\n"
   ]
  },
  {
   "cell_type": "markdown",
   "id": "0323d7e5",
   "metadata": {},
   "source": [
    "### TC-FR15-001"
   ]
  },
  {
   "cell_type": "code",
   "execution_count": null,
   "id": "34e58f67",
   "metadata": {},
   "outputs": [
    {
     "name": "stdout",
     "output_type": "stream",
     "text": [
      "PASS — Reached final order overview\n",
      "\n",
      "Browser Console Logs:\n"
     ]
    }
   ],
   "source": [
    "driver = webdriver.Chrome(options=options)\n",
    "driver.get('https://www.saucedemo.com/')\n",
    "\n",
    "name_input = driver.find_element(By.NAME, \"user-name\")\n",
    "name_input.send_keys(\"standard_user\")\n",
    "\n",
    "password_input= driver.find_element(By.NAME, \"password\")\n",
    "password_input.send_keys(\"secret_sauce\")\n",
    "\n",
    "driver.find_element(By.NAME, \"login-button\").click()\n",
    "\n",
    "driver.find_element(By.ID, \"add-to-cart-sauce-labs-backpack\").click()\n",
    "driver.find_element(By.ID, \"add-to-cart-sauce-labs-bike-light\").click()\n",
    "driver.find_element(By.ID, \"add-to-cart-test.allthethings()-t-shirt-(red)\").click()\n",
    "\n",
    "driver.find_element(By.CLASS_NAME, \"shopping_cart_link\").click()\n",
    "driver.find_element(By.ID, \"checkout\").click()\n",
    "\n",
    "first_name_input = driver.find_element(By.NAME, \"firstName\")\n",
    "first_name_input.send_keys(\"standard\")\n",
    "\n",
    "last_name_input = driver.find_element(By.NAME, \"lastName\")\n",
    "last_name_input.send_keys(\"user\")\n",
    "\n",
    "zip = driver.find_element(By.NAME, \"postalCode\")\n",
    "zip.send_keys(\"1999\")\n",
    "\n",
    "driver.find_element(By.ID, \"continue\").click()\n",
    "\n",
    "try:\n",
    "    assert \"checkout-step-two.html\" in driver.current_url\n",
    "    print(\"PASS — Reached final order overview\")\n",
    "\n",
    "except Exception as e:\n",
    "    print(\"FAIL\")\n",
    "    print(\"Error:\", e)\n",
    "\n",
    "finally:\n",
    "    if driver:\n",
    "        try:\n",
    "            logs = driver.get_log('browser')\n",
    "            print(\"\\nBrowser Console Logs:\")\n",
    "            for log in logs:\n",
    "                print(log)\n",
    "        except Exception as log_error:\n",
    "            print(\"Could not retrieve browser logs.\")\n",
    "            print(\"Log Error:\", log_error)\n"
   ]
  },
  {
   "cell_type": "markdown",
   "id": "c18ec3b4",
   "metadata": {},
   "source": [
    "### TC-FR15-002\n"
   ]
  },
  {
   "cell_type": "code",
   "execution_count": null,
   "id": "24e8dc8c",
   "metadata": {},
   "outputs": [
    {
     "name": "stdout",
     "output_type": "stream",
     "text": [
      "PASS — Checkout was cancelled and redirected to inventory\n",
      "\n",
      "Browser Console Logs:\n",
      "{'level': 'SEVERE', 'message': 'https://events.backtrace.io/api/unique-events/submit?universe=UNIVERSE&token=TOKEN - Failed to load resource: the server responded with a status of 401 (Unauthorized)', 'source': 'network', 'timestamp': 1753203931941}\n",
      "{'level': 'SEVERE', 'message': 'https://events.backtrace.io/api/summed-events/submit?universe=UNIVERSE&token=TOKEN - Failed to load resource: the server responded with a status of 401 (Unauthorized)', 'source': 'network', 'timestamp': 1753203931941}\n",
      "{'level': 'SEVERE', 'message': 'https://events.backtrace.io/api/unique-events/submit?universe=UNIVERSE&token=TOKEN - Failed to load resource: the server responded with a status of 401 (Unauthorized)', 'source': 'network', 'timestamp': 1753203931941}\n",
      "{'level': 'SEVERE', 'message': 'https://events.backtrace.io/api/summed-events/submit?universe=UNIVERSE&token=TOKEN - Failed to load resource: the server responded with a status of 401 (Unauthorized)', 'source': 'network', 'timestamp': 1753203931941}\n",
      "{'level': 'SEVERE', 'message': 'https://www.saucedemo.com/checkout-step-two.html - Failed to load resource: the server responded with a status of 404 ()', 'source': 'network', 'timestamp': 1753203931941}\n",
      "{'level': 'SEVERE', 'message': 'https://events.backtrace.io/api/unique-events/submit?universe=UNIVERSE&token=TOKEN - Failed to load resource: the server responded with a status of 401 (Unauthorized)', 'source': 'network', 'timestamp': 1753203931941}\n",
      "{'level': 'SEVERE', 'message': 'https://events.backtrace.io/api/summed-events/submit?universe=UNIVERSE&token=TOKEN - Failed to load resource: the server responded with a status of 401 (Unauthorized)', 'source': 'network', 'timestamp': 1753203931941}\n"
     ]
    }
   ],
   "source": [
    "driver.find_element(By.ID, \"cancel\").click()\n",
    "\n",
    "try:\n",
    "    assert \"inventory.html\" in driver.current_url\n",
    "    print(\"PASS — Checkout was cancelled and redirected to inventory\")\n",
    "\n",
    "except Exception as e:\n",
    "    print(\"FAIL\")\n",
    "    print(\"Error:\", e)\n",
    "\n",
    "finally:\n",
    "    if driver:\n",
    "        try:\n",
    "            logs = driver.get_log('browser')\n",
    "            print(\"\\nBrowser Console Logs:\")\n",
    "            for log in logs:\n",
    "                print(log)\n",
    "        except Exception as log_error:\n",
    "            print(\"Could not retrieve browser logs.\")\n",
    "            print(\"Log Error:\", log_error)\n",
    "\n",
    "time.sleep(2)\n",
    "driver.quit()"
   ]
  },
  {
   "cell_type": "markdown",
   "id": "167b9ab3",
   "metadata": {},
   "source": [
    "# TC-FR16"
   ]
  },
  {
   "cell_type": "markdown",
   "id": "4c282eb5",
   "metadata": {},
   "source": [
    "### TC-FR16-001"
   ]
  },
  {
   "cell_type": "code",
   "execution_count": null,
   "id": "11d38a0e",
   "metadata": {},
   "outputs": [
    {
     "name": "stdout",
     "output_type": "stream",
     "text": [
      "PASS — Order completed successfully\n",
      "\n",
      "Browser Console Logs:\n"
     ]
    }
   ],
   "source": [
    "driver = webdriver.Chrome(options=options)\n",
    "driver.get('https://www.saucedemo.com/')\n",
    "\n",
    "name_input = driver.find_element(By.NAME, \"user-name\")\n",
    "name_input.send_keys(\"standard_user\")\n",
    "\n",
    "password_input= driver.find_element(By.NAME, \"password\")\n",
    "password_input.send_keys(\"secret_sauce\")\n",
    "\n",
    "driver.find_element(By.NAME, \"login-button\").click()\n",
    "\n",
    "driver.find_element(By.ID, \"add-to-cart-sauce-labs-backpack\").click()\n",
    "driver.find_element(By.ID, \"add-to-cart-sauce-labs-bike-light\").click()\n",
    "driver.find_element(By.ID, \"add-to-cart-test.allthethings()-t-shirt-(red)\").click()\n",
    "\n",
    "driver.find_element(By.CLASS_NAME, \"shopping_cart_link\").click()\n",
    "driver.find_element(By.ID, \"checkout\").click()\n",
    "\n",
    "first_name_input = driver.find_element(By.NAME, \"firstName\")\n",
    "first_name_input.send_keys(\"standard\")\n",
    "\n",
    "last_name_input = driver.find_element(By.NAME, \"lastName\")\n",
    "last_name_input.send_keys(\"user\")\n",
    "\n",
    "zip = driver.find_element(By.NAME, \"postalCode\")\n",
    "zip.send_keys(\"1999\")\n",
    "\n",
    "driver.find_element(By.ID, \"continue\").click()\n",
    "driver.find_element(By.ID, \"finish\").click()\n",
    "\n",
    "try:\n",
    "    assert \"checkout-complete.html\" in driver.current_url\n",
    "    print(\"PASS — Order completed successfully\")\n",
    "\n",
    "except Exception as e:\n",
    "    print(\"FAIL\")\n",
    "    print(\"Error:\", e)\n",
    "\n",
    "finally:\n",
    "    if driver:\n",
    "        try:\n",
    "            logs = driver.get_log('browser')\n",
    "            print(\"\\nBrowser Console Logs:\")\n",
    "            for log in logs:\n",
    "                print(log)\n",
    "        except Exception as log_error:\n",
    "            print(\"Could not retrieve browser logs.\")\n",
    "            print(\"Log Error:\", log_error)"
   ]
  },
  {
   "cell_type": "markdown",
   "id": "8ad3c3e0",
   "metadata": {},
   "source": [
    "### TC-FR16-002\n"
   ]
  },
  {
   "cell_type": "code",
   "execution_count": null,
   "id": "8691dfce",
   "metadata": {},
   "outputs": [
    {
     "name": "stdout",
     "output_type": "stream",
     "text": [
      "PASS — Navigated to cart page.\n",
      "Browser Console Logs:\n",
      "{'level': 'SEVERE', 'message': 'https://events.backtrace.io/api/unique-events/submit?universe=UNIVERSE&token=TOKEN - Failed to load resource: the server responded with a status of 401 (Unauthorized)', 'source': 'network', 'timestamp': 1753204058033}\n",
      "{'level': 'SEVERE', 'message': 'https://events.backtrace.io/api/summed-events/submit?universe=UNIVERSE&token=TOKEN - Failed to load resource: the server responded with a status of 401 (Unauthorized)', 'source': 'network', 'timestamp': 1753204058033}\n",
      "{'level': 'SEVERE', 'message': 'https://events.backtrace.io/api/unique-events/submit?universe=UNIVERSE&token=TOKEN - Failed to load resource: the server responded with a status of 401 (Unauthorized)', 'source': 'network', 'timestamp': 1753204058033}\n",
      "{'level': 'SEVERE', 'message': 'https://events.backtrace.io/api/summed-events/submit?universe=UNIVERSE&token=TOKEN - Failed to load resource: the server responded with a status of 401 (Unauthorized)', 'source': 'network', 'timestamp': 1753204058033}\n",
      "{'level': 'SEVERE', 'message': 'https://events.backtrace.io/api/unique-events/submit?universe=UNIVERSE&token=TOKEN - Failed to load resource: the server responded with a status of 401 (Unauthorized)', 'source': 'network', 'timestamp': 1753204058033}\n",
      "{'level': 'SEVERE', 'message': 'https://events.backtrace.io/api/summed-events/submit?universe=UNIVERSE&token=TOKEN - Failed to load resource: the server responded with a status of 401 (Unauthorized)', 'source': 'network', 'timestamp': 1753204058033}\n"
     ]
    }
   ],
   "source": [
    "driver.find_element(By.CLASS_NAME, \"shopping_cart_link\").click()\n",
    "try:\n",
    "    driver.find_element(By.CLASS_NAME, \"shopping_cart_link\").click()\n",
    "    print(\"PASS — Navigated to cart page.\")\n",
    "except Exception as e:\n",
    "    print(\"FAIL — Could not open cart page.\")\n",
    "    print(\"Error:\", e)\n",
    "\n",
    "try:\n",
    "    logs = driver.get_log('browser')\n",
    "    print(\"Browser Console Logs:\")\n",
    "    for log in logs:\n",
    "        print(log)\n",
    "except Exception as log_error:\n",
    "    print(\"Could not retrieve browser logs.\")\n",
    "    print(\"Log Error:\", log_error)\n",
    "\n",
    "time.sleep(2)\n",
    "driver.quit()"
   ]
  },
  {
   "cell_type": "markdown",
   "id": "beb724e7",
   "metadata": {},
   "source": [
    "### TC-FR16-003\n"
   ]
  },
  {
   "cell_type": "code",
   "execution_count": null,
   "id": "6f1ce7ed",
   "metadata": {},
   "outputs": [
    {
     "name": "stdout",
     "output_type": "stream",
     "text": [
      "PASS — Flow executed successfully.\n",
      "Browser Console Logs:\n"
     ]
    }
   ],
   "source": [
    "driver = webdriver.Chrome(options=options)\n",
    "driver.get('https://www.saucedemo.com/')\n",
    "\n",
    "name_input = driver.find_element(By.NAME, \"user-name\")\n",
    "name_input.send_keys(\"standard_user\")\n",
    "\n",
    "password_input= driver.find_element(By.NAME, \"password\")\n",
    "password_input.send_keys(\"secret_sauce\")\n",
    "\n",
    "driver.find_element(By.NAME, \"login-button\").click()\n",
    "\n",
    "driver.find_element(By.ID, \"add-to-cart-sauce-labs-backpack\").click()\n",
    "driver.find_element(By.ID, \"add-to-cart-sauce-labs-bike-light\").click()\n",
    "driver.find_element(By.ID, \"add-to-cart-test.allthethings()-t-shirt-(red)\").click()\n",
    "\n",
    "driver.find_element(By.CLASS_NAME, \"shopping_cart_link\").click()\n",
    "driver.find_element(By.ID, \"checkout\").click()\n",
    "\n",
    "driver.find_element(By.ID, \"continue\").click()\n",
    "\n",
    "try:\n",
    "\n",
    "    print(\"PASS — Flow executed successfully.\")\n",
    "\n",
    "except Exception as e:\n",
    "    print(\"FAIL — Test encountered an issue.\")\n",
    "    print(\"Error:\", e)\n",
    "\n",
    "finally:\n",
    "    try:\n",
    "        logs = driver.get_log('browser')\n",
    "        print(\"Browser Console Logs:\")\n",
    "        for log in logs:\n",
    "            print(log)\n",
    "    except Exception as log_error:\n",
    "        print(\"Could not retrieve browser logs.\")\n",
    "        print(\"Log Error:\", log_error)\n",
    "\n",
    "time.sleep(2)\n",
    "driver.quit()"
   ]
  },
  {
   "cell_type": "markdown",
   "id": "f5572d83",
   "metadata": {},
   "source": [
    "# TC-FR17"
   ]
  },
  {
   "cell_type": "markdown",
   "id": "5e236026",
   "metadata": {},
   "source": [
    "### TC-FR17-001"
   ]
  },
  {
   "cell_type": "code",
   "execution_count": null,
   "id": "a0e1fe69",
   "metadata": {},
   "outputs": [
    {
     "name": "stdout",
     "output_type": "stream",
     "text": [
      "PASS — Navigation menu opened and closed successfully.\n",
      "Browser Console Logs:\n",
      "{'level': 'SEVERE', 'message': 'https://events.backtrace.io/api/unique-events/submit?universe=UNIVERSE&token=TOKEN - Failed to load resource: the server responded with a status of 401 (Unauthorized)', 'source': 'network', 'timestamp': 1753204402728}\n",
      "{'level': 'SEVERE', 'message': 'https://events.backtrace.io/api/summed-events/submit?universe=UNIVERSE&token=TOKEN - Failed to load resource: the server responded with a status of 401 (Unauthorized)', 'source': 'network', 'timestamp': 1753204402728}\n"
     ]
    }
   ],
   "source": [
    "driver = webdriver.Chrome(options=options)\n",
    "driver.get('https://www.saucedemo.com/')\n",
    "\n",
    "name_input = driver.find_element(By.NAME, \"user-name\")\n",
    "name_input.send_keys(\"standard_user\")\n",
    "\n",
    "password_input= driver.find_element(By.NAME, \"password\")\n",
    "password_input.send_keys(\"secret_sauce\")\n",
    "\n",
    "driver.find_element(By.NAME, \"login-button\").click()\n",
    "\n",
    "driver.find_element(By.ID, \"react-burger-menu-btn\").click()\n",
    "\n",
    "time.sleep(2)\n",
    "\n",
    "driver.find_element(By.ID, \"react-burger-cross-btn\").click()\n",
    "\n",
    "try:\n",
    "    print(\"PASS — Navigation menu opened and closed successfully.\")\n",
    "\n",
    "except Exception as e:\n",
    "    print(\"FAIL — Navigation menu test encountered an issue.\")\n",
    "    print(\"Error:\", e)\n",
    "\n",
    "finally:\n",
    "    try:\n",
    "        logs = driver.get_log('browser')\n",
    "        print(\"Browser Console Logs:\")\n",
    "        for log in logs:\n",
    "            print(log)\n",
    "    except Exception as log_error:\n",
    "        print(\"Could not retrieve browser logs.\")\n",
    "        print(\"Log Error:\", log_error)"
   ]
  },
  {
   "cell_type": "markdown",
   "id": "fae2ad7b",
   "metadata": {},
   "source": [
    "### TC-FR17-002 - FAIL(N/A)\n"
   ]
  },
  {
   "cell_type": "markdown",
   "id": "53d350db",
   "metadata": {},
   "source": [
    "### TC-FR17-003"
   ]
  },
  {
   "cell_type": "code",
   "execution_count": null,
   "id": "fe661657",
   "metadata": {},
   "outputs": [
    {
     "name": "stdout",
     "output_type": "stream",
     "text": [
      "PASS — Successfully logged out and returned to login page.\n",
      "Browser Console Logs:\n"
     ]
    }
   ],
   "source": [
    "driver.find_element(By.ID, \"react-burger-menu-btn\").click()\n",
    "time.sleep(2)\n",
    "driver.find_element(By.ID, \"logout_sidebar_link\").click()\n",
    "time.sleep(2)\n",
    "\n",
    "try:\n",
    "    current_url = driver.current_url\n",
    "    if \"https://www.saucedemo.com/\" == current_url:\n",
    "        print(\"PASS — Successfully logged out and returned to login page.\")\n",
    "    else:\n",
    "        print(\"FAIL — Logout did not redirect to login page.\")\n",
    "\n",
    "except Exception as e:\n",
    "    print(\"FAIL — Error during logout test.\")\n",
    "    print(\"Error:\", e)\n",
    "\n",
    "finally:\n",
    "    try:\n",
    "        logs = driver.get_log('browser')\n",
    "        print(\"Browser Console Logs:\")\n",
    "        for log in logs:\n",
    "            print(log)\n",
    "    except Exception as log_error:\n",
    "        print(\"Could not retrieve browser logs.\")\n",
    "        print(\"Log Error:\", log_error)"
   ]
  },
  {
   "cell_type": "markdown",
   "id": "d89a508b",
   "metadata": {},
   "source": [
    "### TC-FR17-004"
   ]
  },
  {
   "cell_type": "code",
   "execution_count": null,
   "id": "fae43566",
   "metadata": {},
   "outputs": [
    {
     "name": "stdout",
     "output_type": "stream",
     "text": [
      "PASS — Cart successfully cleared after reset.\n",
      "\n",
      "Browser Console Logs:\n",
      "{'level': 'SEVERE', 'message': 'https://events.backtrace.io/api/unique-events/submit?universe=UNIVERSE&token=TOKEN - Failed to load resource: the server responded with a status of 401 (Unauthorized)', 'source': 'network', 'timestamp': 1753204576006}\n",
      "{'level': 'SEVERE', 'message': 'https://events.backtrace.io/api/summed-events/submit?universe=UNIVERSE&token=TOKEN - Failed to load resource: the server responded with a status of 401 (Unauthorized)', 'source': 'network', 'timestamp': 1753204576006}\n",
      "{'level': 'SEVERE', 'message': 'https://events.backtrace.io/api/unique-events/submit?universe=UNIVERSE&token=TOKEN - Failed to load resource: the server responded with a status of 401 (Unauthorized)', 'source': 'network', 'timestamp': 1753204576006}\n",
      "{'level': 'SEVERE', 'message': 'https://events.backtrace.io/api/summed-events/submit?universe=UNIVERSE&token=TOKEN - Failed to load resource: the server responded with a status of 401 (Unauthorized)', 'source': 'network', 'timestamp': 1753204576006}\n"
     ]
    }
   ],
   "source": [
    "name_input = driver.find_element(By.NAME, \"user-name\")\n",
    "name_input.send_keys(\"standard_user\")\n",
    "\n",
    "password_input= driver.find_element(By.NAME, \"password\")\n",
    "password_input.send_keys(\"secret_sauce\")\n",
    "\n",
    "driver.find_element(By.NAME, \"login-button\").click()\n",
    "\n",
    "driver.find_element(By.ID, \"add-to-cart-sauce-labs-backpack\").click()\n",
    "driver.find_element(By.ID, \"add-to-cart-sauce-labs-bike-light\").click()\n",
    "driver.find_element(By.ID, \"add-to-cart-test.allthethings()-t-shirt-(red)\").click()\n",
    "\n",
    "driver.find_element(By.ID, \"react-burger-menu-btn\").click()\n",
    "time.sleep(2)\n",
    "\n",
    "driver.find_element(By.ID, \"reset_sidebar_link\").click()\n",
    "\n",
    "\n",
    "try:\n",
    "    driver.find_element(By.CLASS_NAME, \"shopping_cart_badge\")\n",
    "    print(\"FAIL — Cart still contains items after reset.\")\n",
    "except:\n",
    "    print(\"PASS — Cart successfully cleared after reset.\")\n",
    "\n",
    "finally:\n",
    "    try:\n",
    "        logs = driver.get_log('browser')\n",
    "        print(\"\\nBrowser Console Logs:\")\n",
    "        for log in logs:\n",
    "            print(log)\n",
    "    except Exception as log_error:\n",
    "        print(\"Could not retrieve browser logs.\")\n",
    "        print(\"Log Error:\", log_error)\n",
    "\n",
    "time.sleep(2)\n",
    "driver.quit()"
   ]
  },
  {
   "cell_type": "markdown",
   "id": "15e3ad92",
   "metadata": {},
   "source": [
    "# TC-FR18"
   ]
  },
  {
   "cell_type": "markdown",
   "id": "80dceaec",
   "metadata": {},
   "source": [
    "### TC-FR18-001"
   ]
  },
  {
   "cell_type": "code",
   "execution_count": null,
   "id": "3c939c34",
   "metadata": {},
   "outputs": [],
   "source": [
    "driver.get(\"https://www.saucedemo.com/\")\n",
    "\n",
    "driver.find_element(By.ID, \"user-name\").send_keys(\"standard_user\")\n",
    "driver.find_element(By.ID, \"password\").send_keys(\"secret_sauce\")\n",
    "driver.find_element(By.ID, \"login-button\").click()\n",
    "\n",
    "WebDriverWait(driver, 5).until(\n",
    "    EC.visibility_of_element_located((By.ID, \"add-to-cart-sauce-labs-backpack\"))\n",
    ")\n",
    "\n",
    "driver.find_element(By.ID, \"add-to-cart-sauce-labs-backpack\").click()\n",
    "\n",
    "try:\n",
    "    WebDriverWait(driver, 5).until(\n",
    "        EC.presence_of_element_located((By.CLASS_NAME, \"shopping_cart_badge\"))\n",
    "    )\n",
    "    cart_badge = driver.find_element(By.CLASS_NAME, \"shopping_cart_badge\")\n",
    "    cart_badge_number = cart_badge.text\n",
    "\n",
    "    assert cart_badge_number == \"1\"\n",
    "    print(f\"PASSED: Cart badge correctly shows 1 item. Badge count: {cart_badge_number}\")\n",
    "\n",
    "except AssertionError:\n",
    "    print(f\"FAILED: Expected cart badge to show 1 but got {cart_badge_number}\")\n",
    "except Exception as log_error:\n",
    "    print(\"Could not retrieve browser logs.\")\n",
    "    print(\"Log Error:\", log_error)\n",
    "\n",
    "time.sleep(1)"
   ]
  },
  {
   "cell_type": "markdown",
   "id": "d85595b8",
   "metadata": {},
   "source": [
    "### TC-FR18-002"
   ]
  },
  {
   "cell_type": "code",
   "execution_count": null,
   "id": "ce8b9014",
   "metadata": {},
   "outputs": [],
   "source": [
    "driver.get(\"https://www.saucedemo.com/\")\n",
    "\n",
    "driver.find_element(By.ID, \"user-name\").send_keys(\"standard_user\")\n",
    "driver.find_element(By.ID, \"password\").send_keys(\"secret_sauce\")\n",
    "driver.find_element(By.ID, \"login-button\").click()\n",
    "\n",
    "WebDriverWait(driver, 5).until(\n",
    "    EC.visibility_of_element_located((By.CLASS_NAME, \"inventory_item\"))\n",
    ")\n",
    "\n",
    "try:\n",
    "    driver.find_element(By.ID, \"add-to-cart-sauce-labs-backpack\").click()\n",
    "    driver.find_element(By.ID, \"add-to-cart-sauce-labs-bike-light\").click()\n",
    "    driver.find_element(By.ID, \"add-to-cart-sauce-labs-bolt-t-shirt\").click()\n",
    "\n",
    "    WebDriverWait(driver, 5).until(\n",
    "        EC.presence_of_element_located((By.CLASS_NAME, \"shopping_cart_badge\"))\n",
    "    )\n",
    "    cart_badge = driver.find_element(By.CLASS_NAME, \"shopping_cart_badge\")\n",
    "    badge_text = cart_badge.text\n",
    "    \n",
    "    assert badge_text == \"3\"\n",
    "    print(f\"PASSED: Cart badge correctly shows 3 items. Badge count: {badge_text}\")\n",
    "\n",
    "except AssertionError:\n",
    "    print(f\"FAILED: Expected cart badge to show 3 but got {badge_text}\")\n",
    "\n",
    "except Exception as log_error:\n",
    "    print(\"Could not retrieve browser logs.\")\n",
    "    print(\"Log Error:\", log_error)\n",
    "\n",
    "time.sleep(1)"
   ]
  },
  {
   "cell_type": "markdown",
   "id": "92714e6b",
   "metadata": {},
   "source": [
    "### TC-FR18-003"
   ]
  },
  {
   "cell_type": "code",
   "execution_count": null,
   "id": "7a4cb52c",
   "metadata": {},
   "outputs": [],
   "source": [
    "driver.get(\"https://www.saucedemo.com/\")\n",
    "\n",
    "driver.find_element(By.ID, \"user-name\").send_keys(\"standard_user\")\n",
    "driver.find_element(By.ID, \"password\").send_keys(\"secret_sauce\")\n",
    "driver.find_element(By.ID, \"login-button\").click()\n",
    "\n",
    "WebDriverWait(driver, 5).until(\n",
    "    EC.visibility_of_element_located((By.ID, \"user-name\"))\n",
    ")\n",
    "driver.find_element(By.ID, \"user-name\").send_keys(\"standard_user\")\n",
    "driver.find_element(By.ID, \"password\").send_keys(\"secret_sauce\")\n",
    "driver.find_element(By.ID, \"login-button\").click()\n",
    "\n",
    "WebDriverWait(driver, 5).until(\n",
    "    EC.visibility_of_element_located((By.ID, \"add-to-cart-sauce-labs-backpack\"))\n",
    ")\n",
    "\n",
    "driver.find_element(By.ID, \"add-to-cart-sauce-labs-backpack\").click()\n",
    "driver.find_element(By.ID, \"add-to-cart-sauce-labs-bike-light\").click()\n",
    "\n",
    "WebDriverWait(driver, 5).until(\n",
    "    EC.presence_of_element_located((By.CLASS_NAME, \"shopping_cart_badge\"))\n",
    ")\n",
    "cart_badge = driver.find_element(By.CLASS_NAME, \"shopping_cart_badge\")\n",
    "initial_count = int(cart_badge.text)\n",
    "\n",
    "driver.find_element(By.ID, \"remove-sauce-labs-backpack\").click()\n",
    "\n",
    "time.sleep(1)\n",
    "\n",
    "try:\n",
    "    WebDriverWait(driver, 5).until(\n",
    "        EC.presence_of_element_located((By.CLASS_NAME, \"shopping_cart_badge\"))\n",
    "    )\n",
    "    cart_badge = driver.find_element(By.CLASS_NAME, \"shopping_cart_badge\")\n",
    "    updated_count = int(cart_badge.text)\n",
    "\n",
    "    assert updated_count == initial_count - 1\n",
    "    print(f\"PASSED: Cart badge decreased by 1. Initial: {initial_count}, Now: {updated_count}\")\n",
    "\n",
    "except AssertionError:\n",
    "    print(f\"FAILED: Badge did not decrease correctly. Expected: {initial_count - 1}, Got: {updated_count}\")\n",
    "except Exception as log_error:\n",
    "    print(\"Could not retrieve browser logs.\")\n",
    "    print(\"Log Error:\", log_error)\n",
    "\n",
    "time.sleep(1)"
   ]
  },
  {
   "cell_type": "markdown",
   "id": "67f2f063",
   "metadata": {},
   "source": [
    "### TC-FR18-004"
   ]
  },
  {
   "cell_type": "code",
   "execution_count": null,
   "id": "1dec9114",
   "metadata": {},
   "outputs": [],
   "source": [
    "driver.get(\"https://www.saucedemo.com/\")\n",
    "\n",
    "driver.find_element(By.ID, \"user-name\").send_keys(\"standard_user\")\n",
    "driver.find_element(By.ID, \"password\").send_keys(\"secret_sauce\")\n",
    "driver.find_element(By.ID, \"login-button\").click()\n",
    "\n",
    "WebDriverWait(driver, 5).until(\n",
    "    EC.visibility_of_element_located((By.ID, \"add-to-cart-sauce-labs-backpack\"))\n",
    ")\n",
    "driver.find_element(By.ID, \"add-to-cart-sauce-labs-backpack\").click()\n",
    "\n",
    "WebDriverWait(driver, 5).until(\n",
    "    EC.presence_of_element_located((By.CLASS_NAME, \"shopping_cart_badge\"))\n",
    ")\n",
    "\n",
    "driver.find_element(By.ID, \"remove-sauce-labs-backpack\").click()\n",
    "\n",
    "time.sleep(1)\n",
    "\n",
    "try:\n",
    "    badge_elements = driver.find_elements(By.CLASS_NAME, \"shopping_cart_badge\")\n",
    "    if len(badge_elements) == 0:\n",
    "        print(\"PASSED: Cart badge is hidden after removing all items.\")\n",
    "    else:\n",
    "        badge_text = badge_elements[0].text\n",
    "        assert badge_text == \"\" or badge_text == \"0\"\n",
    "        print(f\"PASSED: Cart badge text is '{badge_text}' (effectively empty).\")\n",
    "except AssertionError:\n",
    "    print(f\"FAILED: Expected badge to be hidden or 0, but got '{badge_text}'\")\n",
    "except Exception as log_error:\n",
    "    print(\"Could not retrieve browser logs.\")\n",
    "    print(\"Log Error:\", log_error)\n",
    "\n",
    "time.sleep(1)"
   ]
  }
 ],
 "metadata": {
  "kernelspec": {
   "display_name": "Python 3",
   "language": "python",
   "name": "python3"
  },
  "language_info": {
   "codemirror_mode": {
    "name": "ipython",
    "version": 3
   },
   "file_extension": ".py",
   "mimetype": "text/x-python",
   "name": "python",
   "nbconvert_exporter": "python",
   "pygments_lexer": "ipython3",
   "version": "3.13.0"
  }
 },
 "nbformat": 4,
 "nbformat_minor": 5
}
