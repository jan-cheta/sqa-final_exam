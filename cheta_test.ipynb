{
 "cells": [
  {
   "cell_type": "code",
   "execution_count": 353,
   "id": "2d84a774",
   "metadata": {},
   "outputs": [],
   "source": [
    "from selenium import webdriver\n",
    "from selenium.webdriver.common.by import By\n",
    "from selenium.webdriver.common.keys import Keys\n",
    "from selenium.webdriver.common.action_chains import ActionChains\n",
    "from selenium.webdriver.support.ui import WebDriverWait, Select\n",
    "from selenium.webdriver.support import expected_conditions as EC\n",
    "from selenium.webdriver.common.alert import Alert\n",
    "from selenium.webdriver.chrome.service import Service\n",
    "from selenium.webdriver.chrome.options import Options\n",
    "import time\n"
   ]
  },
  {
   "cell_type": "code",
   "execution_count": 354,
   "id": "d999cac2",
   "metadata": {},
   "outputs": [],
   "source": [
    "chrome_options = Options()\n",
    "chrome_options.add_experimental_option(\"prefs\", {\n",
    "    \"profile.password_manager_enabled\": False,\n",
    "    \"credentials_enable_service\": False,\n",
    "    \"password_leak_detection\": False\n",
    "})\n",
    "\n",
    "driver = webdriver.Chrome(options=chrome_options)"
   ]
  },
  {
   "cell_type": "markdown",
   "id": "c4b801c5",
   "metadata": {},
   "source": [
    "# TC-FR1\n",
    "Test Cases Cannot be Automated Since Function is not implemented:\n",
    "- TC-FR1-001\n",
    "- TC-FR1-002"
   ]
  },
  {
   "cell_type": "markdown",
   "id": "4b2caa20",
   "metadata": {},
   "source": [
    "# TC-FR2"
   ]
  },
  {
   "cell_type": "markdown",
   "id": "38aaeb40",
   "metadata": {},
   "source": [
    "### TC-FR2-001"
   ]
  },
  {
   "cell_type": "code",
   "execution_count": 355,
   "id": "a81b36c3",
   "metadata": {},
   "outputs": [
    {
     "name": "stdout",
     "output_type": "stream",
     "text": [
      "PASSED: Login Successful with Correct Credentials\n",
      "=== Browser Console Logs ===\n",
      "DEBUG - https://www.saucedemo.com/ - [DOM] Input elements should have autocomplete attributes (suggested: \"current-password\"): (More info: https://goo.gl/9p2vKq) %o\n",
      "INFO - https://www.saucedemo.com/static/js/2.84a5cbf3.chunk.js 1:123015 \"Content is cached for offline use.\"\n",
      "SEVERE - https://events.backtrace.io/api/unique-events/submit?universe=UNIVERSE&token=TOKEN - Failed to load resource: the server responded with a status of 401 (Unauthorized)\n",
      "SEVERE - https://events.backtrace.io/api/summed-events/submit?universe=UNIVERSE&token=TOKEN - Failed to load resource: the server responded with a status of 401 (Unauthorized)\n"
     ]
    }
   ],
   "source": [
    "driver.get(\"https://www.saucedemo.com/\")\n",
    "\n",
    "username_tb = driver.find_element(By.ID, \"user-name\")\n",
    "password_tb = driver.find_element(By.ID, \"password\")\n",
    "login_bt = driver.find_element(By.ID, \"login-button\")\n",
    "\n",
    "username_tb.send_keys(\"standard_user\")\n",
    "time.sleep(1)\n",
    "password_tb.send_keys(\"secret_sauce\")\n",
    "time.sleep(1)\n",
    "login_bt.click()\n",
    "time.sleep(1)\n",
    "try:\n",
    "    assert \"inventory\" in driver.current_url\n",
    "    print(\"PASSED: Login Successful with Correct Credentials\")\n",
    "except:\n",
    "    print(\"FAILED: Login Unsuccessful with Correct Credentials\") \n",
    "\n",
    "logs = driver.get_log('browser')\n",
    "print(\"=== Browser Console Logs ===\")\n",
    "for entry in logs:\n",
    "    print(f\"{entry['level']} - {entry['message']}\")\n",
    "time.sleep(1)"
   ]
  },
  {
   "cell_type": "markdown",
   "id": "c132717d",
   "metadata": {},
   "source": [
    "### TC-FR2-002"
   ]
  },
  {
   "cell_type": "code",
   "execution_count": 356,
   "id": "fdc298c2",
   "metadata": {},
   "outputs": [
    {
     "name": "stdout",
     "output_type": "stream",
     "text": [
      "PASSED: Login Unsuccessful with Incorrect Credentials\n",
      "=== Browser Console Logs ===\n",
      "DEBUG - https://www.saucedemo.com/ - [DOM] Input elements should have autocomplete attributes (suggested: \"current-password\"): (More info: https://goo.gl/9p2vKq) %o\n"
     ]
    }
   ],
   "source": [
    "driver.get(\"https://www.saucedemo.com/\")\n",
    "\n",
    "username_tb = driver.find_element(By.ID, \"user-name\")\n",
    "password_tb = driver.find_element(By.ID, \"password\")\n",
    "login_bt = driver.find_element(By.ID, \"login-button\")\n",
    "\n",
    "username_tb.send_keys(\"malicious_user\")\n",
    "time.sleep(1)\n",
    "password_tb.send_keys(\"non_secret_sauce\")\n",
    "time.sleep(1)\n",
    "login_bt.click()\n",
    "time.sleep(1)\n",
    "\n",
    "try:\n",
    "    assert not \"inventory\" in driver.current_url\n",
    "    print(\"PASSED: Login Unsuccessful with Incorrect Credentials\")\n",
    "except:\n",
    "    print(\"FAILED: Login Successful with Incorrect Credentials\") \n",
    "\n",
    "logs = driver.get_log('browser')\n",
    "print(\"=== Browser Console Logs ===\")\n",
    "for entry in logs:\n",
    "    print(f\"{entry['level']} - {entry['message']}\")\n",
    "time.sleep(1)"
   ]
  },
  {
   "cell_type": "markdown",
   "id": "37326377",
   "metadata": {},
   "source": [
    "# TC-FR3"
   ]
  },
  {
   "cell_type": "markdown",
   "id": "ea61e898",
   "metadata": {},
   "source": [
    "### TC-FR3-001"
   ]
  },
  {
   "cell_type": "code",
   "execution_count": 357,
   "id": "6f03eb7f",
   "metadata": {},
   "outputs": [
    {
     "name": "stdout",
     "output_type": "stream",
     "text": [
      "PASSED: Logout Successful\n",
      "=== Browser Console Logs ===\n",
      "SEVERE - https://www.saucedemo.com/inventory.html - Failed to load resource: the server responded with a status of 404 ()\n",
      "DEBUG - https://www.saucedemo.com/ - [DOM] Input elements should have autocomplete attributes (suggested: \"current-password\"): (More info: https://goo.gl/9p2vKq) %o\n"
     ]
    }
   ],
   "source": [
    "driver.get(\"https://www.saucedemo.com/inventory.html\")\n",
    "\n",
    "wait = WebDriverWait(driver, 10)\n",
    "burger_menu = wait.until(EC.element_to_be_clickable((By.ID, \"react-burger-menu-btn\")))\n",
    "burger_menu.click()\n",
    "time.sleep(1)\n",
    "logout_bt = wait.until(EC.element_to_be_clickable((By.ID, \"logout_sidebar_link\")))\n",
    "logout_bt.click()\n",
    "time.sleep(1)\n",
    "\n",
    "try:\n",
    "    assert \"https://www.saucedemo.com/\" == driver.current_url\n",
    "    print(\"PASSED: Logout Successful\")\n",
    "except:\n",
    "    print(\"FAILED: Logout Unsuccesful\") \n",
    "\n",
    "logs = driver.get_log('browser')\n",
    "print(\"=== Browser Console Logs ===\")\n",
    "for entry in logs:\n",
    "    print(f\"{entry['level']} - {entry['message']}\")\n",
    "time.sleep(1)"
   ]
  },
  {
   "cell_type": "markdown",
   "id": "c05c760d",
   "metadata": {},
   "source": [
    "# TC-FR4\n",
    "Test Cases Cannot be Automated Since Function is not implemented:\n",
    "- TC-FR4-001\n",
    "- TC-FR4-002\n",
    "\n",
    "# TC-FR5\n",
    "Test Cases Cannot be Automated Since Function is not implemented:\n",
    "- TC-FR5-001\n",
    "- TC-FR5-002"
   ]
  },
  {
   "cell_type": "markdown",
   "id": "708da5b4",
   "metadata": {},
   "source": [
    "# TC-FR6"
   ]
  },
  {
   "cell_type": "markdown",
   "id": "d07caa1b",
   "metadata": {},
   "source": [
    "### TC-FR6-001"
   ]
  },
  {
   "cell_type": "code",
   "execution_count": 358,
   "id": "fb3f6f9b",
   "metadata": {},
   "outputs": [
    {
     "name": "stdout",
     "output_type": "stream",
     "text": [
      "session-username: standard_user\n",
      "✅ Session cookie found: session-username\n",
      "=== Browser Console Logs ===\n",
      "DEBUG - https://www.saucedemo.com/ - [DOM] Input elements should have autocomplete attributes (suggested: \"current-password\"): (More info: https://goo.gl/9p2vKq) %o\n"
     ]
    }
   ],
   "source": [
    "driver.get(\"https://www.saucedemo.com/\")\n",
    "\n",
    "username_tb = driver.find_element(By.ID, \"user-name\")\n",
    "password_tb = driver.find_element(By.ID, \"password\")\n",
    "login_bt = driver.find_element(By.ID, \"login-button\")\n",
    "\n",
    "username_tb.send_keys(\"standard_user\")\n",
    "time.sleep(1)\n",
    "password_tb.send_keys(\"secret_sauce\")\n",
    "time.sleep(1)\n",
    "login_bt.click()\n",
    "time.sleep(1)\n",
    "\n",
    "cookies = driver.get_cookies()\n",
    "\n",
    "for cookie in cookies:\n",
    "    print(f\"{cookie['name']}: {cookie['value']}\")\n",
    "\n",
    "session_cookie = next((c for c in cookies if 'session' in c['name'].lower()), None)\n",
    "\n",
    "if session_cookie:\n",
    "    print(\"✅ Session cookie found:\", session_cookie['name'])\n",
    "else:\n",
    "    print(\"❌ No session cookie found after login\")\n",
    "\n",
    "logs = driver.get_log('browser')\n",
    "print(\"=== Browser Console Logs ===\")\n",
    "for entry in logs:\n",
    "    print(f\"{entry['level']} - {entry['message']}\")\n",
    "time.sleep(1)"
   ]
  },
  {
   "cell_type": "markdown",
   "id": "42ab75e8",
   "metadata": {},
   "source": [
    "### TC-FR6-002\n",
    "Automation Is Not Applicable"
   ]
  },
  {
   "cell_type": "markdown",
   "id": "4751684f",
   "metadata": {},
   "source": [
    "### TC-FR6-003"
   ]
  },
  {
   "cell_type": "code",
   "execution_count": 359,
   "id": "53a2c986",
   "metadata": {},
   "outputs": [
    {
     "name": "stdout",
     "output_type": "stream",
     "text": [
      "PASSED: Session ended on logout — redirected to login\n",
      "=== Browser Console Logs ===\n",
      "SEVERE - https://www.saucedemo.com/inventory.html - Failed to load resource: the server responded with a status of 404 ()\n",
      "DEBUG - https://www.saucedemo.com/ - [DOM] Input elements should have autocomplete attributes (suggested: \"current-password\"): (More info: https://goo.gl/9p2vKq) %o\n"
     ]
    }
   ],
   "source": [
    "try:\n",
    "    assert \"inventory\" in driver.current_url\n",
    "except Exception as e:\n",
    "    print(f\"FAILED: Did not redirect to inventory.html\")\n",
    "# 2. Logout\n",
    "driver.find_element(By.ID, \"react-burger-menu-btn\").click()\n",
    "driver.implicitly_wait(2)\n",
    "driver.find_element(By.ID, \"logout_sidebar_link\").click()\n",
    "\n",
    "# 3. Try to go back to protected page\n",
    "driver.get(\"https://www.saucedemo.com/inventory.html\")\n",
    "\n",
    "# 4. Assert redirected back to login\n",
    "try:\n",
    "    assert \"saucedemo.com\" in driver.current_url\n",
    "    assert driver.find_element(By.ID, \"login-button\").is_displayed()\n",
    "    print(\"PASSED: Session ended on logout — redirected to login\")\n",
    "except Exception as e:\n",
    "    print(f\"FAILED: Session did not end on logout - stayed in inventory.html\")\n",
    "\n",
    "logs = driver.get_log('browser')\n",
    "print(\"=== Browser Console Logs ===\")\n",
    "for entry in logs:\n",
    "    print(f\"{entry['level']} - {entry['message']}\")\n",
    "time.sleep(1)"
   ]
  },
  {
   "cell_type": "markdown",
   "id": "8ca451e5",
   "metadata": {},
   "source": [
    "# TC-FR7"
   ]
  },
  {
   "cell_type": "markdown",
   "id": "d8e1676f",
   "metadata": {},
   "source": [
    "### TC-FR7-001"
   ]
  },
  {
   "cell_type": "code",
   "execution_count": 360,
   "id": "2e23f91e",
   "metadata": {},
   "outputs": [
    {
     "name": "stdout",
     "output_type": "stream",
     "text": [
      "PASSED: Catalog is displayed\n",
      "=== Browser Console Logs ===\n",
      "DEBUG - https://www.saucedemo.com/ - [DOM] Input elements should have autocomplete attributes (suggested: \"current-password\"): (More info: https://goo.gl/9p2vKq) %o\n"
     ]
    }
   ],
   "source": [
    "driver.get(\"https://www.saucedemo.com/\")\n",
    "\n",
    "username_tb = driver.find_element(By.ID, \"user-name\")\n",
    "password_tb = driver.find_element(By.ID, \"password\")\n",
    "login_bt = driver.find_element(By.ID, \"login-button\")\n",
    "\n",
    "username_tb.send_keys(\"standard_user\")\n",
    "time.sleep(1)\n",
    "password_tb.send_keys(\"secret_sauce\")\n",
    "time.sleep(1)\n",
    "login_bt.click()\n",
    "time.sleep(1)\n",
    "\n",
    "try:\n",
    "    assert driver.find_element(By.ID, \"inventory_container\").is_displayed()\n",
    "    print(\"PASSED: Catalog is displayed\")\n",
    "except Exception as e:\n",
    "    print(\"FAILED: Did not display catalog\")\n",
    "\n",
    "logs = driver.get_log('browser')\n",
    "print(\"=== Browser Console Logs ===\")\n",
    "for entry in logs:\n",
    "    print(f\"{entry['level']} - {entry['message']}\")\n",
    "time.sleep(1)"
   ]
  },
  {
   "cell_type": "markdown",
   "id": "72570ed2",
   "metadata": {},
   "source": [
    "### TC-FR7-002"
   ]
  },
  {
   "cell_type": "code",
   "execution_count": 361,
   "id": "fc636cef",
   "metadata": {},
   "outputs": [
    {
     "name": "stdout",
     "output_type": "stream",
     "text": [
      "PASSED: Catalog has restricted access\n",
      "=== Browser Console Logs ===\n",
      "SEVERE - https://www.saucedemo.com/inventory.html - Failed to load resource: the server responded with a status of 404 ()\n",
      "DEBUG - https://www.saucedemo.com/ - [DOM] Input elements should have autocomplete attributes (suggested: \"current-password\"): (More info: https://goo.gl/9p2vKq) %o\n",
      "SEVERE - https://www.saucedemo.com/inventory.html - Failed to load resource: the server responded with a status of 404 ()\n",
      "DEBUG - https://www.saucedemo.com/ - [DOM] Input elements should have autocomplete attributes (suggested: \"current-password\"): (More info: https://goo.gl/9p2vKq) %o\n"
     ]
    }
   ],
   "source": [
    "driver.get(\"https://www.saucedemo.com/inventory.html\")\n",
    "\n",
    "wait = WebDriverWait(driver, 10)\n",
    "burger_menu = wait.until(EC.element_to_be_clickable((By.ID, \"react-burger-menu-btn\")))\n",
    "burger_menu.click()\n",
    "time.sleep(1)\n",
    "logout_bt = wait.until(EC.element_to_be_clickable((By.ID, \"logout_sidebar_link\")))\n",
    "logout_bt.click()\n",
    "time.sleep(1)\n",
    "\n",
    "driver.get(\"https://www.saucedemo.com/inventory.html\")\n",
    "\n",
    "try:\n",
    "    assert not \"inventory\" in driver.current_url\n",
    "    print(\"PASSED: Catalog has restricted access\")\n",
    "except Exception as e:\n",
    "    print(f\"FAILED: Redirected to inventory.html\")\n",
    "\n",
    "logs = driver.get_log('browser')\n",
    "print(\"=== Browser Console Logs ===\")\n",
    "for entry in logs:\n",
    "    print(f\"{entry['level']} - {entry['message']}\")\n",
    "time.sleep(1)"
   ]
  },
  {
   "cell_type": "markdown",
   "id": "71822e23",
   "metadata": {},
   "source": [
    "# TC-FR8\n",
    "Test Cases Cannot be Automated Since Function is not implemented:\n",
    "- TC-FR8-001\n",
    "- TC-FR8-002"
   ]
  },
  {
   "cell_type": "markdown",
   "id": "7ededb7e",
   "metadata": {},
   "source": [
    "# TC-FR9"
   ]
  },
  {
   "cell_type": "markdown",
   "id": "75202e27",
   "metadata": {},
   "source": [
    "### TC-FR9-001"
   ]
  },
  {
   "cell_type": "code",
   "execution_count": 362,
   "id": "5ecb4627",
   "metadata": {},
   "outputs": [
    {
     "name": "stdout",
     "output_type": "stream",
     "text": [
      "PASSED: Products sorted by name A–Z successfully.\n",
      "=== Browser Console Logs ===\n",
      "DEBUG - https://www.saucedemo.com/ - [DOM] Input elements should have autocomplete attributes (suggested: \"current-password\"): (More info: https://goo.gl/9p2vKq) %o\n"
     ]
    }
   ],
   "source": [
    "driver.get(\"https://www.saucedemo.com/\")\n",
    "\n",
    "driver.find_element(By.ID, \"user-name\").send_keys(\"standard_user\")\n",
    "driver.find_element(By.ID, \"password\").send_keys(\"secret_sauce\")\n",
    "driver.find_element(By.ID, \"login-button\").click()\n",
    "\n",
    "WebDriverWait(driver, 10).until(EC.presence_of_element_located((By.CLASS_NAME, \"inventory_list\")))\n",
    "\n",
    "select_elem = Select(driver.find_element(By.CLASS_NAME, \"product_sort_container\"))\n",
    "select_elem.select_by_visible_text(\"Name (A to Z)\")\n",
    "time.sleep(1)\n",
    "\n",
    "WebDriverWait(driver, 10).until(EC.presence_of_element_located((By.CLASS_NAME, \"inventory_item_name\")))\n",
    "\n",
    "product_name_elements = driver.find_elements(By.CLASS_NAME, \"inventory_item_name\")\n",
    "product_names = [elem.text for elem in product_name_elements]\n",
    "\n",
    "sorted_names = sorted(product_names)\n",
    "try:\n",
    "    assert product_names == sorted_names\n",
    "    print(\"PASSED: Products sorted by name A–Z successfully.\")\n",
    "except:\n",
    "    f\"FAILED: Products are not sorted A–Z!\\nGot: {product_names}\"\n",
    "\n",
    "logs = driver.get_log('browser')\n",
    "print(\"=== Browser Console Logs ===\")\n",
    "for entry in logs:\n",
    "    print(f\"{entry['level']} - {entry['message']}\")\n",
    "time.sleep(1)"
   ]
  },
  {
   "cell_type": "markdown",
   "id": "ec5fbb50",
   "metadata": {},
   "source": [
    "### TC-FR9-002"
   ]
  },
  {
   "cell_type": "code",
   "execution_count": 363,
   "id": "dba39750",
   "metadata": {},
   "outputs": [
    {
     "name": "stdout",
     "output_type": "stream",
     "text": [
      "PASSED: Product prices are sorted from low to high correctly.\n",
      "=== Browser Console Logs ===\n",
      "DEBUG - https://www.saucedemo.com/ - [DOM] Input elements should have autocomplete attributes (suggested: \"current-password\"): (More info: https://goo.gl/9p2vKq) %o\n"
     ]
    }
   ],
   "source": [
    "driver.get(\"https://www.saucedemo.com/\")\n",
    "\n",
    "driver.find_element(By.ID, \"user-name\").send_keys(\"standard_user\")\n",
    "driver.find_element(By.ID, \"password\").send_keys(\"secret_sauce\")\n",
    "driver.find_element(By.ID, \"login-button\").click()\n",
    "\n",
    "WebDriverWait(driver, 10).until(\n",
    "    EC.presence_of_element_located((By.CLASS_NAME, \"product_sort_container\"))\n",
    ")\n",
    "\n",
    "select = Select(driver.find_element(By.CLASS_NAME, \"product_sort_container\"))\n",
    "select.select_by_visible_text(\"Price (low to high)\")\n",
    "time.sleep(1)\n",
    "\n",
    "WebDriverWait(driver, 10).until(\n",
    "    EC.presence_of_all_elements_located((By.CLASS_NAME, \"inventory_item_price\"))\n",
    ")\n",
    "\n",
    "price_elements = driver.find_elements(By.CLASS_NAME, \"inventory_item_price\")\n",
    "price_texts = [elem.text for elem in price_elements]  # e.g., ['$7.99', '$15.99', ...]\n",
    "\n",
    "prices = [float(price.replace(\"$\", \"\")) for price in price_texts]\n",
    "\n",
    "sorted_prices = sorted(prices)\n",
    "try:\n",
    "    assert prices == sorted_prices\n",
    "    print(\"PASSED: Product prices are sorted from low to high correctly.\")\n",
    "except:\n",
    "    print(f\"FAILED: Prices are not sorted low to high!\\nGot: {prices}\")\n",
    "\n",
    "logs = driver.get_log('browser')\n",
    "print(\"=== Browser Console Logs ===\")\n",
    "for entry in logs:\n",
    "    print(f\"{entry['level']} - {entry['message']}\")\n",
    "time.sleep(1)"
   ]
  },
  {
   "cell_type": "markdown",
   "id": "2ac9649b",
   "metadata": {},
   "source": [
    "# TC-FR10"
   ]
  },
  {
   "cell_type": "markdown",
   "id": "49841a55",
   "metadata": {},
   "source": [
    "### TC-FR10-001"
   ]
  },
  {
   "cell_type": "code",
   "execution_count": 364,
   "id": "72710fd5",
   "metadata": {},
   "outputs": [
    {
     "name": "stdout",
     "output_type": "stream",
     "text": [
      "PASSED: Product detail view is shown correctly.\n"
     ]
    }
   ],
   "source": [
    "driver.get(\"https://www.saucedemo.com/\")\n",
    "\n",
    "driver.find_element(By.ID, \"user-name\").send_keys(\"standard_user\")\n",
    "driver.find_element(By.ID, \"password\").send_keys(\"secret_sauce\")\n",
    "driver.find_element(By.ID, \"login-button\").click()\n",
    "\n",
    "WebDriverWait(driver, 10).until(\n",
    "    EC.presence_of_element_located((By.CLASS_NAME, \"inventory_item\"))\n",
    ")\n",
    "\n",
    "first_product = driver.find_element(By.CLASS_NAME, \"inventory_item_name\")\n",
    "first_product_text = first_product.text\n",
    "first_product.click()\n",
    "time.sleep(1)\n",
    "\n",
    "WebDriverWait(driver, 10).until(\n",
    "    EC.presence_of_element_located((By.CLASS_NAME, \"inventory_details_name\"))\n",
    ")\n",
    "\n",
    "detail_name = driver.find_element(By.CLASS_NAME, \"inventory_details_name\").text\n",
    "detail_description = driver.find_element(By.CLASS_NAME, \"inventory_details_desc\").text\n",
    "detail_price = driver.find_element(By.CLASS_NAME, \"inventory_details_price\").text\n",
    "add_to_cart = driver.find_element(By.CLASS_NAME, \"btn_inventory\")\n",
    "\n",
    "try:\n",
    "    assert detail_name == first_product_text\n",
    "    assert detail_description != \"\"\n",
    "    assert detail_price.startswith(\"$\")\n",
    "    assert add_to_cart.is_displayed()\n",
    "    print(\"PASSED: Product detail view is shown correctly.\")\n",
    "except AssertionError:\n",
    "    print(\"FAILED: One or more product detail checks failed.\")\n",
    "time.sleep(1)\n"
   ]
  }
 ],
 "metadata": {
  "kernelspec": {
   "display_name": "seleniumvenv",
   "language": "python",
   "name": "seleniumvenv"
  },
  "language_info": {
   "codemirror_mode": {
    "name": "ipython",
    "version": 3
   },
   "file_extension": ".py",
   "mimetype": "text/x-python",
   "name": "python",
   "nbconvert_exporter": "python",
   "pygments_lexer": "ipython3",
   "version": "3.13.5"
  }
 },
 "nbformat": 4,
 "nbformat_minor": 5
}
