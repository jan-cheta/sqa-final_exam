{
 "cells": [
  {
   "cell_type": "code",
   "id": "initial_id",
   "metadata": {
    "collapsed": true,
    "ExecuteTime": {
     "end_time": "2025-07-23T02:36:10.007140Z",
     "start_time": "2025-07-23T02:36:10.001377Z"
    }
   },
   "source": [
    "from selenium import webdriver\n",
    "from selenium.webdriver.common.by import By\n",
    "import time\n",
    "\n",
    "options = webdriver.ChromeOptions()\n",
    "options.add_experimental_option(\"detach\", True)\n",
    "options.add_argument(\"--guest\")\n",
    "#prefs = {\"credentials_enable_service\": False, \"profile.password_manager_enabled\": False}\n",
    "#options.add_experimental_option(\"prefs\", prefs)"
   ],
   "outputs": [],
   "execution_count": 2
  },
  {
   "metadata": {},
   "cell_type": "markdown",
   "source": "TC-FR12-001\n",
   "id": "f76701211af09edd"
  },
  {
   "metadata": {
    "ExecuteTime": {
     "end_time": "2025-07-22T15:45:42.370689Z",
     "start_time": "2025-07-22T15:45:34.931582Z"
    }
   },
   "cell_type": "code",
   "source": [
    "driver = webdriver.Chrome(options=options)\n",
    "driver.get('https://www.saucedemo.com/')\n",
    "\n",
    "name_input = driver.find_element(By.NAME, \"user-name\")\n",
    "name_input.send_keys(\"standard_user\")\n",
    "\n",
    "password_input= driver.find_element(By.NAME, \"password\")\n",
    "password_input.send_keys(\"secret_sauce\")\n",
    "\n",
    "driver.find_element(By.NAME, \"login-button\").click()\n",
    "\n",
    "driver.find_element(By.ID, \"add-to-cart-sauce-labs-backpack\").click()\n",
    "driver.find_element(By.ID, \"add-to-cart-sauce-labs-bike-light\").click()\n",
    "time.sleep(1)\n",
    "driver.find_element(By.CLASS_NAME, \"btn_secondary\").click()\n",
    "driver.find_element(By.CLASS_NAME, \"btn_secondary\").click()\n",
    "try:\n",
    "     assert \"inventory.html\" in driver.current_url\n",
    "     print(\"PASS\")\n",
    "except Exception as e:\n",
    "     print(\"FAIL\")\n",
    "     print(\"Error:\", e)\n",
    "finally:\n",
    "    if driver:\n",
    "          try:\n",
    "            logs = driver.get_log('browser')\n",
    "            print(\"\\nBrowser Console Logs:\")\n",
    "            for log in logs:\n",
    "                print(log)\n",
    "          except Exception as log_error:\n",
    "            print(\"Could not retrieve browser logs.\")\n",
    "            print(\"Log Error:\", log_error)\n",
    "time.sleep(2)\n",
    "driver.quit()"
   ],
   "id": "c8d61e4028bce1e",
   "outputs": [
    {
     "name": "stdout",
     "output_type": "stream",
     "text": [
      "PASS\n",
      "\n",
      "Browser Console Logs:\n",
      "{'level': 'SEVERE', 'message': 'https://events.backtrace.io/api/unique-events/submit?universe=UNIVERSE&token=TOKEN - Failed to load resource: the server responded with a status of 401 (Unauthorized)', 'source': 'network', 'timestamp': 1753199138061}\n"
     ]
    }
   ],
   "execution_count": 44
  },
  {
   "metadata": {},
   "cell_type": "markdown",
   "source": "TC-FR12-002\n",
   "id": "b5b0acdcecbbe91f"
  },
  {
   "metadata": {
    "ExecuteTime": {
     "end_time": "2025-07-23T02:38:49.880257Z",
     "start_time": "2025-07-23T02:38:37.643766Z"
    }
   },
   "cell_type": "code",
   "source": [
    "driver = webdriver.Chrome(options=options)\n",
    "driver.get('https://www.saucedemo.com/')\n",
    "\n",
    "name_input = driver.find_element(By.NAME, \"user-name\")\n",
    "name_input.send_keys(\"standard_user\")\n",
    "\n",
    "password_input= driver.find_element(By.NAME, \"password\")\n",
    "password_input.send_keys(\"secret_sauce\")\n",
    "\n",
    "driver.find_element(By.NAME, \"login-button\").click()\n",
    "\n",
    "driver.find_element(By.ID, \"add-to-cart-sauce-labs-backpack\").click()\n",
    "\n",
    "driver.find_element(By.CLASS_NAME, \"shopping_cart_link\").click()\n",
    "time.sleep(1)\n",
    "driver.find_element(By.CLASS_NAME, \"cart_button\").click()\n",
    "\n",
    "try:\n",
    "    assert \"https://www.saucedemo.com/cart.html\" in driver.current_url\n",
    "    print(\"PASS\")\n",
    "\n",
    "except Exception as e:\n",
    "    print(\"FAIL\")\n",
    "    print(\"Error:\", e)\n",
    "\n",
    "finally:\n",
    "    if driver:\n",
    "        try:\n",
    "            logs = driver.get_log('browser')\n",
    "            print(\"\\nBrowser Console Logs:\")\n",
    "            for log in logs:\n",
    "                print(log)\n",
    "        except Exception as log_error:\n",
    "            print(\"Could not retrieve browser logs.\")\n",
    "            print(\"Log Error:\", log_error)\n",
    "\n",
    "time.sleep(2)\n",
    "driver.quit()"
   ],
   "id": "cffb1be8c57d6407",
   "outputs": [
    {
     "name": "stdout",
     "output_type": "stream",
     "text": [
      "PASS\n",
      "\n",
      "Browser Console Logs:\n",
      "{'level': 'SEVERE', 'message': 'https://events.backtrace.io/api/unique-events/submit?universe=UNIVERSE&token=TOKEN - Failed to load resource: the server responded with a status of 401 (Unauthorized)', 'source': 'network', 'timestamp': 1753238325543}\n"
     ]
    }
   ],
   "execution_count": 3
  },
  {
   "metadata": {},
   "cell_type": "markdown",
   "source": "TC-FR13-001\n",
   "id": "27dc1169759e0852"
  },
  {
   "metadata": {
    "ExecuteTime": {
     "end_time": "2025-07-22T15:51:06.319107Z",
     "start_time": "2025-07-22T15:51:03.967761Z"
    }
   },
   "cell_type": "code",
   "source": [
    "driver = webdriver.Chrome(options=options)\n",
    "driver.get('https://www.saucedemo.com/')\n",
    "\n",
    "name_input = driver.find_element(By.NAME, \"user-name\")\n",
    "name_input.send_keys(\"standard_user\")\n",
    "\n",
    "password_input= driver.find_element(By.NAME, \"password\")\n",
    "password_input.send_keys(\"secret_sauce\")\n",
    "\n",
    "driver.find_element(By.NAME, \"login-button\").click()\n",
    "\n",
    "driver.find_element(By.ID, \"add-to-cart-sauce-labs-backpack\").click()\n",
    "driver.find_element(By.ID, \"add-to-cart-sauce-labs-bike-light\").click()\n",
    "driver.find_element(By.ID, \"add-to-cart-test.allthethings()-t-shirt-(red)\").click()\n",
    "\n",
    "driver.find_element(By.CLASS_NAME, \"shopping_cart_link\").click()\n",
    "\n",
    "try:\n",
    "    assert \"cart.html\" in driver.current_url\n",
    "    print(\"PASS\")\n",
    "\n",
    "except Exception as e:\n",
    "    print(\"FAIL\")\n",
    "    print(\"Error:\", e)"
   ],
   "id": "8cb8cede2680f144",
   "outputs": [
    {
     "name": "stdout",
     "output_type": "stream",
     "text": [
      "PASS\n"
     ]
    }
   ],
   "execution_count": 52
  },
  {
   "metadata": {},
   "cell_type": "markdown",
   "source": "TC-FR13-002 N/A\n",
   "id": "5c3e1ef7e59b242f"
  },
  {
   "metadata": {},
   "cell_type": "markdown",
   "source": "TC-FR13-003\n",
   "id": "4f66816d4efc51c6"
  },
  {
   "metadata": {
    "ExecuteTime": {
     "end_time": "2025-07-22T15:51:12.253799Z",
     "start_time": "2025-07-22T15:51:07.901184Z"
    }
   },
   "cell_type": "code",
   "source": [
    "driver.find_element(By.CLASS_NAME, \"cart_button\").click()\n",
    "driver.find_element(By.CLASS_NAME, \"cart_button\").click()\n",
    "driver.find_element(By.CLASS_NAME, \"cart_button\").click()\n",
    "\n",
    "try:\n",
    "    assert \"cart.html\" in driver.current_url\n",
    "    print(\"PASS\")\n",
    "\n",
    "except Exception as e:\n",
    "    print(\"FAIL\")\n",
    "    print(\"Error:\", e)\n",
    "\n",
    "finally:\n",
    "    if driver:\n",
    "        try:\n",
    "            logs = driver.get_log('browser')\n",
    "            print(\"\\nBrowser Console Logs:\")\n",
    "            for log in logs:\n",
    "                print(log)\n",
    "        except Exception as log_error:\n",
    "            print(\"Could not retrieve browser logs.\")\n",
    "            print(\"Log Error:\", log_error)\n",
    "\n",
    "time.sleep(2)\n",
    "driver.quit()"
   ],
   "id": "b462e70ae7ea7cdc",
   "outputs": [
    {
     "name": "stdout",
     "output_type": "stream",
     "text": [
      "PASS\n",
      "\n",
      "Browser Console Logs:\n",
      "{'level': 'SEVERE', 'message': 'https://events.backtrace.io/api/unique-events/submit?universe=UNIVERSE&token=TOKEN - Failed to load resource: the server responded with a status of 401 (Unauthorized)', 'source': 'network', 'timestamp': 1753199467905}\n",
      "{'level': 'SEVERE', 'message': 'https://events.backtrace.io/api/summed-events/submit?universe=UNIVERSE&token=TOKEN - Failed to load resource: the server responded with a status of 401 (Unauthorized)', 'source': 'network', 'timestamp': 1753199467905}\n"
     ]
    }
   ],
   "execution_count": 53
  },
  {
   "metadata": {},
   "cell_type": "markdown",
   "source": "TC-FR14-001\n",
   "id": "86ae54224ec00a01"
  },
  {
   "metadata": {
    "ExecuteTime": {
     "end_time": "2025-07-22T15:52:10.523990Z",
     "start_time": "2025-07-22T15:52:03.699585Z"
    }
   },
   "cell_type": "code",
   "source": [
    "driver = webdriver.Chrome(options=options)\n",
    "driver.get('https://www.saucedemo.com/')\n",
    "\n",
    "name_input = driver.find_element(By.NAME, \"user-name\")\n",
    "name_input.send_keys(\"standard_user\")\n",
    "\n",
    "password_input= driver.find_element(By.NAME, \"password\")\n",
    "password_input.send_keys(\"secret_sauce\")\n",
    "\n",
    "driver.find_element(By.NAME, \"login-button\").click()\n",
    "\n",
    "driver.find_element(By.ID, \"add-to-cart-sauce-labs-backpack\").click()\n",
    "driver.find_element(By.ID, \"add-to-cart-sauce-labs-bike-light\").click()\n",
    "driver.find_element(By.ID, \"add-to-cart-test.allthethings()-t-shirt-(red)\").click()\n",
    "\n",
    "driver.find_element(By.CLASS_NAME, \"shopping_cart_link\").click()\n",
    "driver.find_element(By.ID, \"checkout\").click()\n",
    "\n",
    "first_name_input = driver.find_element(By.NAME, \"firstName\")\n",
    "first_name_input.send_keys(\"standard\")\n",
    "\n",
    "last_name_input = driver.find_element(By.NAME, \"lastName\")\n",
    "last_name_input.send_keys(\"user\")\n",
    "\n",
    "zip = driver.find_element(By.NAME, \"postalCode\")\n",
    "zip.send_keys(\"1999\")\n",
    "\n",
    "driver.find_element(By.ID, \"continue\").click()\n",
    "\n",
    "try:\n",
    "    assert \"checkout-step-two.html\" in driver.current_url\n",
    "    print(\"PASS\")\n",
    "\n",
    "except Exception as e:\n",
    "    print(\"FAIL\")\n",
    "    print(\"Error:\", e)\n",
    "\n",
    "finally:\n",
    "    if driver:\n",
    "        try:\n",
    "            logs = driver.get_log('browser')\n",
    "            print(\"\\nBrowser Console Logs:\")\n",
    "            for log in logs:\n",
    "                print(log)\n",
    "        except Exception as log_error:\n",
    "            print(\"Could not retrieve browser logs.\")\n",
    "            print(\"Log Error:\", log_error)\n",
    "\n",
    "time.sleep(2)\n",
    "driver.quit()"
   ],
   "id": "4050596224f1bf58",
   "outputs": [
    {
     "name": "stdout",
     "output_type": "stream",
     "text": [
      "PASS\n",
      "\n",
      "Browser Console Logs:\n"
     ]
    }
   ],
   "execution_count": 54
  },
  {
   "metadata": {},
   "cell_type": "markdown",
   "source": "TC-FR14-002\n",
   "id": "2b7f78bc7407a23f"
  },
  {
   "metadata": {
    "ExecuteTime": {
     "end_time": "2025-07-22T16:50:54.015708Z",
     "start_time": "2025-07-22T16:50:50.416489Z"
    }
   },
   "cell_type": "code",
   "source": [
    "driver = webdriver.Chrome(options=options)\n",
    "driver.get('https://www.saucedemo.com/')\n",
    "\n",
    "name_input = driver.find_element(By.NAME, \"user-name\")\n",
    "name_input.send_keys(\"standard_user\")\n",
    "\n",
    "password_input= driver.find_element(By.NAME, \"password\")\n",
    "password_input.send_keys(\"secret_sauce\")\n",
    "\n",
    "driver.find_element(By.NAME, \"login-button\").click()\n",
    "\n",
    "driver.find_element(By.ID, \"add-to-cart-sauce-labs-backpack\").click()\n",
    "driver.find_element(By.ID, \"add-to-cart-sauce-labs-bike-light\").click()\n",
    "driver.find_element(By.ID, \"add-to-cart-test.allthethings()-t-shirt-(red)\").click()\n",
    "\n",
    "driver.find_element(By.CLASS_NAME, \"shopping_cart_link\").click()\n",
    "driver.find_element(By.ID, \"checkout\").click()\n",
    "\n",
    "driver.find_element(By.ID, \"continue\").click()\n",
    "\n",
    "try:\n",
    "    error = driver.find_element(By.CLASS_NAME, \"error-message-container\")\n",
    "    assert error.is_displayed()\n",
    "    print(\"PASS\")\n",
    "\n",
    "except Exception as e:\n",
    "    print(\"FAIL\")\n",
    "    print(\"Error:\", e)\n",
    "\n",
    "finally:\n",
    "    if driver:\n",
    "        try:\n",
    "            logs = driver.get_log('browser')\n",
    "            print(\"\\nBrowser Console Logs:\")\n",
    "            for log in logs:\n",
    "                print(log)\n",
    "        except Exception as log_error:\n",
    "            print(\"Could not retrieve browser logs.\")\n",
    "            print(\"Log Error:\", log_error)"
   ],
   "id": "e640c371f438163f",
   "outputs": [
    {
     "name": "stdout",
     "output_type": "stream",
     "text": [
      "PASS\n",
      "\n",
      "Browser Console Logs:\n"
     ]
    }
   ],
   "execution_count": 61
  },
  {
   "metadata": {},
   "cell_type": "markdown",
   "source": "TC-FR14-003\n",
   "id": "87758b883b11a36b"
  },
  {
   "metadata": {
    "ExecuteTime": {
     "end_time": "2025-07-22T16:51:09.009837Z",
     "start_time": "2025-07-22T16:51:04.454263Z"
    }
   },
   "cell_type": "code",
   "source": [
    "first_name_input = driver.find_element(By.NAME, \"firstName\")\n",
    "first_name_input.send_keys(\"standard\")\n",
    "\n",
    "last_name_input = driver.find_element(By.NAME, \"lastName\")\n",
    "last_name_input.send_keys(\"user\")\n",
    "\n",
    "zip = driver.find_element(By.NAME, \"postalCode\")\n",
    "zip.send_keys(\"aa@@#\")\n",
    "\n",
    "driver.find_element(By.ID, \"continue\").click()\n",
    "\n",
    "try:\n",
    "    if \"checkout-step-two.html\" in driver.current_url:\n",
    "        print(\"FAIL — Invalid postal code was accepted\")\n",
    "    else:\n",
    "        print(\"PASS — Stayed on form, likely rejected input (visually)\")\n",
    "\n",
    "except Exception as e:\n",
    "    print(\"FAIL\")\n",
    "    print(\"Error:\", e)\n",
    "\n",
    "finally:\n",
    "    if driver:\n",
    "        try:\n",
    "            logs = driver.get_log('browser')\n",
    "            print(\"\\nBrowser Console Logs:\")\n",
    "            for log in logs:\n",
    "                print(log)\n",
    "        except Exception as log_error:\n",
    "            print(\"Could not retrieve browser logs.\")\n",
    "            print(\"Log Error:\", log_error)\n",
    "\n",
    "time.sleep(2)\n",
    "driver.quit()"
   ],
   "id": "fbf60b1653d8a60c",
   "outputs": [
    {
     "name": "stdout",
     "output_type": "stream",
     "text": [
      "FAIL — Invalid postal code was accepted\n",
      "\n",
      "Browser Console Logs:\n",
      "{'level': 'SEVERE', 'message': 'https://events.backtrace.io/api/unique-events/submit?universe=UNIVERSE&token=TOKEN - Failed to load resource: the server responded with a status of 401 (Unauthorized)', 'source': 'network', 'timestamp': 1753203064458}\n",
      "{'level': 'SEVERE', 'message': 'https://events.backtrace.io/api/summed-events/submit?universe=UNIVERSE&token=TOKEN - Failed to load resource: the server responded with a status of 401 (Unauthorized)', 'source': 'network', 'timestamp': 1753203064458}\n"
     ]
    }
   ],
   "execution_count": 62
  },
  {
   "metadata": {},
   "cell_type": "markdown",
   "source": "TC-FR14-004\n",
   "id": "df8cda9d6e505c8c"
  },
  {
   "metadata": {
    "ExecuteTime": {
     "end_time": "2025-07-23T02:40:21.251606Z",
     "start_time": "2025-07-23T02:40:12.785035Z"
    }
   },
   "cell_type": "code",
   "source": [
    "driver = webdriver.Chrome(options=options)\n",
    "driver.get('https://www.saucedemo.com/')\n",
    "\n",
    "name_input = driver.find_element(By.NAME, \"user-name\")\n",
    "name_input.send_keys(\"standard_user\")\n",
    "\n",
    "password_input= driver.find_element(By.NAME, \"password\")\n",
    "password_input.send_keys(\"secret_sauce\")\n",
    "\n",
    "driver.find_element(By.NAME, \"login-button\").click()\n",
    "\n",
    "driver.find_element(By.CLASS_NAME, \"shopping_cart_link\").click()\n",
    "driver.find_element(By.ID, \"checkout\").click()\n",
    "\n",
    "first_name_input = driver.find_element(By.NAME, \"firstName\")\n",
    "first_name_input.send_keys(\"standard\")\n",
    "\n",
    "last_name_input = driver.find_element(By.NAME, \"lastName\")\n",
    "last_name_input.send_keys(\"user\")\n",
    "\n",
    "zip = driver.find_element(By.NAME, \"postalCode\")\n",
    "zip.send_keys(\"1999\")\n",
    "\n",
    "driver.find_element(By.ID, \"continue\").click()\n",
    "driver.find_element(By.ID, \"finish\").click()\n",
    "\n",
    "try:\n",
    "    assert \"checkout-complete.html\" in driver.current_url\n",
    "    print(\"FAIL — Successfully completed checkout without any cart items\")\n",
    "\n",
    "except Exception as e:\n",
    "    print(\"PASS\")\n",
    "\n",
    "finally:\n",
    "    if driver:\n",
    "        try:\n",
    "            logs = driver.get_log('browser')\n",
    "            print(\"\\nBrowser Console Logs:\")\n",
    "            for log in logs:\n",
    "                print(log)\n",
    "        except Exception as log_error:\n",
    "            print(\"Could not retrieve browser logs.\")\n",
    "            print(\"Log Error:\", log_error)\n",
    "\n",
    "\n",
    "time.sleep(2)\n",
    "driver.quit()"
   ],
   "id": "5213fb529e915aa8",
   "outputs": [
    {
     "name": "stdout",
     "output_type": "stream",
     "text": [
      "FAIL — Successfully completed checkout without any cart items\n",
      "\n",
      "Browser Console Logs:\n"
     ]
    }
   ],
   "execution_count": 4
  },
  {
   "metadata": {},
   "cell_type": "markdown",
   "source": "TC-FR15-001\n",
   "id": "9e485c77f92ce965"
  },
  {
   "metadata": {
    "ExecuteTime": {
     "end_time": "2025-07-22T17:03:46.265553Z",
     "start_time": "2025-07-22T17:03:43.620719Z"
    }
   },
   "cell_type": "code",
   "source": [
    "driver = webdriver.Chrome(options=options)\n",
    "driver.get('https://www.saucedemo.com/')\n",
    "\n",
    "name_input = driver.find_element(By.NAME, \"user-name\")\n",
    "name_input.send_keys(\"standard_user\")\n",
    "\n",
    "password_input= driver.find_element(By.NAME, \"password\")\n",
    "password_input.send_keys(\"secret_sauce\")\n",
    "\n",
    "driver.find_element(By.NAME, \"login-button\").click()\n",
    "\n",
    "driver.find_element(By.ID, \"add-to-cart-sauce-labs-backpack\").click()\n",
    "driver.find_element(By.ID, \"add-to-cart-sauce-labs-bike-light\").click()\n",
    "driver.find_element(By.ID, \"add-to-cart-test.allthethings()-t-shirt-(red)\").click()\n",
    "\n",
    "driver.find_element(By.CLASS_NAME, \"shopping_cart_link\").click()\n",
    "driver.find_element(By.ID, \"checkout\").click()\n",
    "\n",
    "first_name_input = driver.find_element(By.NAME, \"firstName\")\n",
    "first_name_input.send_keys(\"standard\")\n",
    "\n",
    "last_name_input = driver.find_element(By.NAME, \"lastName\")\n",
    "last_name_input.send_keys(\"user\")\n",
    "\n",
    "zip = driver.find_element(By.NAME, \"postalCode\")\n",
    "zip.send_keys(\"1999\")\n",
    "\n",
    "driver.find_element(By.ID, \"continue\").click()\n",
    "\n",
    "try:\n",
    "    assert \"checkout-step-two.html\" in driver.current_url\n",
    "    print(\"PASS — Reached final order overview\")\n",
    "\n",
    "except Exception as e:\n",
    "    print(\"FAIL\")\n",
    "    print(\"Error:\", e)\n",
    "\n",
    "finally:\n",
    "    if driver:\n",
    "        try:\n",
    "            logs = driver.get_log('browser')\n",
    "            print(\"\\nBrowser Console Logs:\")\n",
    "            for log in logs:\n",
    "                print(log)\n",
    "        except Exception as log_error:\n",
    "            print(\"Could not retrieve browser logs.\")\n",
    "            print(\"Log Error:\", log_error)\n"
   ],
   "id": "7d46eddcadbae68f",
   "outputs": [
    {
     "name": "stdout",
     "output_type": "stream",
     "text": [
      "PASS — Reached final order overview\n",
      "\n",
      "Browser Console Logs:\n"
     ]
    }
   ],
   "execution_count": 81
  },
  {
   "metadata": {},
   "cell_type": "markdown",
   "source": "TC-FR15-002\n",
   "id": "73b81d0cc5d6070e"
  },
  {
   "metadata": {
    "ExecuteTime": {
     "end_time": "2025-07-22T17:05:36.408536Z",
     "start_time": "2025-07-22T17:05:31.937504Z"
    }
   },
   "cell_type": "code",
   "source": [
    "driver.find_element(By.ID, \"cancel\").click()\n",
    "\n",
    "try:\n",
    "    assert \"inventory.html\" in driver.current_url\n",
    "    print(\"PASS — Checkout was cancelled and redirected to inventory\")\n",
    "\n",
    "except Exception as e:\n",
    "    print(\"FAIL\")\n",
    "    print(\"Error:\", e)\n",
    "\n",
    "finally:\n",
    "    if driver:\n",
    "        try:\n",
    "            logs = driver.get_log('browser')\n",
    "            print(\"\\nBrowser Console Logs:\")\n",
    "            for log in logs:\n",
    "                print(log)\n",
    "        except Exception as log_error:\n",
    "            print(\"Could not retrieve browser logs.\")\n",
    "            print(\"Log Error:\", log_error)\n",
    "\n",
    "time.sleep(2)\n",
    "driver.quit()"
   ],
   "id": "470b5b43797f6c0f",
   "outputs": [
    {
     "name": "stdout",
     "output_type": "stream",
     "text": [
      "PASS — Checkout was cancelled and redirected to inventory\n",
      "\n",
      "Browser Console Logs:\n",
      "{'level': 'SEVERE', 'message': 'https://events.backtrace.io/api/unique-events/submit?universe=UNIVERSE&token=TOKEN - Failed to load resource: the server responded with a status of 401 (Unauthorized)', 'source': 'network', 'timestamp': 1753203931941}\n",
      "{'level': 'SEVERE', 'message': 'https://events.backtrace.io/api/summed-events/submit?universe=UNIVERSE&token=TOKEN - Failed to load resource: the server responded with a status of 401 (Unauthorized)', 'source': 'network', 'timestamp': 1753203931941}\n",
      "{'level': 'SEVERE', 'message': 'https://events.backtrace.io/api/unique-events/submit?universe=UNIVERSE&token=TOKEN - Failed to load resource: the server responded with a status of 401 (Unauthorized)', 'source': 'network', 'timestamp': 1753203931941}\n",
      "{'level': 'SEVERE', 'message': 'https://events.backtrace.io/api/summed-events/submit?universe=UNIVERSE&token=TOKEN - Failed to load resource: the server responded with a status of 401 (Unauthorized)', 'source': 'network', 'timestamp': 1753203931941}\n",
      "{'level': 'SEVERE', 'message': 'https://www.saucedemo.com/checkout-step-two.html - Failed to load resource: the server responded with a status of 404 ()', 'source': 'network', 'timestamp': 1753203931941}\n",
      "{'level': 'SEVERE', 'message': 'https://events.backtrace.io/api/unique-events/submit?universe=UNIVERSE&token=TOKEN - Failed to load resource: the server responded with a status of 401 (Unauthorized)', 'source': 'network', 'timestamp': 1753203931941}\n",
      "{'level': 'SEVERE', 'message': 'https://events.backtrace.io/api/summed-events/submit?universe=UNIVERSE&token=TOKEN - Failed to load resource: the server responded with a status of 401 (Unauthorized)', 'source': 'network', 'timestamp': 1753203931941}\n"
     ]
    }
   ],
   "execution_count": 86
  },
  {
   "metadata": {},
   "cell_type": "markdown",
   "source": "TC-FR16-001\n",
   "id": "56219f4b626fe604"
  },
  {
   "metadata": {
    "ExecuteTime": {
     "end_time": "2025-07-22T17:06:44.871260Z",
     "start_time": "2025-07-22T17:06:41.911141Z"
    }
   },
   "cell_type": "code",
   "source": [
    "driver = webdriver.Chrome(options=options)\n",
    "driver.get('https://www.saucedemo.com/')\n",
    "\n",
    "name_input = driver.find_element(By.NAME, \"user-name\")\n",
    "name_input.send_keys(\"standard_user\")\n",
    "\n",
    "password_input= driver.find_element(By.NAME, \"password\")\n",
    "password_input.send_keys(\"secret_sauce\")\n",
    "\n",
    "driver.find_element(By.NAME, \"login-button\").click()\n",
    "\n",
    "driver.find_element(By.ID, \"add-to-cart-sauce-labs-backpack\").click()\n",
    "driver.find_element(By.ID, \"add-to-cart-sauce-labs-bike-light\").click()\n",
    "driver.find_element(By.ID, \"add-to-cart-test.allthethings()-t-shirt-(red)\").click()\n",
    "\n",
    "driver.find_element(By.CLASS_NAME, \"shopping_cart_link\").click()\n",
    "driver.find_element(By.ID, \"checkout\").click()\n",
    "\n",
    "first_name_input = driver.find_element(By.NAME, \"firstName\")\n",
    "first_name_input.send_keys(\"standard\")\n",
    "\n",
    "last_name_input = driver.find_element(By.NAME, \"lastName\")\n",
    "last_name_input.send_keys(\"user\")\n",
    "\n",
    "zip = driver.find_element(By.NAME, \"postalCode\")\n",
    "zip.send_keys(\"1999\")\n",
    "\n",
    "driver.find_element(By.ID, \"continue\").click()\n",
    "driver.find_element(By.ID, \"finish\").click()\n",
    "\n",
    "try:\n",
    "    assert \"checkout-complete.html\" in driver.current_url\n",
    "    print(\"PASS — Order completed successfully\")\n",
    "\n",
    "except Exception as e:\n",
    "    print(\"FAIL\")\n",
    "    print(\"Error:\", e)\n",
    "\n",
    "finally:\n",
    "    if driver:\n",
    "        try:\n",
    "            logs = driver.get_log('browser')\n",
    "            print(\"\\nBrowser Console Logs:\")\n",
    "            for log in logs:\n",
    "                print(log)\n",
    "        except Exception as log_error:\n",
    "            print(\"Could not retrieve browser logs.\")\n",
    "            print(\"Log Error:\", log_error)"
   ],
   "id": "b635fb24d5ee11f8",
   "outputs": [
    {
     "name": "stdout",
     "output_type": "stream",
     "text": [
      "PASS — Order completed successfully\n",
      "\n",
      "Browser Console Logs:\n"
     ]
    }
   ],
   "execution_count": 87
  },
  {
   "metadata": {},
   "cell_type": "markdown",
   "source": "TC-FR16-002\n",
   "id": "cd300b4a823bdb6a"
  },
  {
   "metadata": {
    "ExecuteTime": {
     "end_time": "2025-07-22T17:07:42.387511Z",
     "start_time": "2025-07-22T17:07:38.028286Z"
    }
   },
   "cell_type": "code",
   "source": [
    "driver.find_element(By.CLASS_NAME, \"shopping_cart_link\").click()\n",
    "try:\n",
    "    driver.find_element(By.CLASS_NAME, \"shopping_cart_link\").click()\n",
    "    print(\"PASS — Navigated to cart page.\")\n",
    "except Exception as e:\n",
    "    print(\"FAIL — Could not open cart page.\")\n",
    "    print(\"Error:\", e)\n",
    "\n",
    "try:\n",
    "    logs = driver.get_log('browser')\n",
    "    print(\"Browser Console Logs:\")\n",
    "    for log in logs:\n",
    "        print(log)\n",
    "except Exception as log_error:\n",
    "    print(\"Could not retrieve browser logs.\")\n",
    "    print(\"Log Error:\", log_error)\n",
    "\n",
    "time.sleep(2)\n",
    "driver.quit()"
   ],
   "id": "8ace7ee4963340aa",
   "outputs": [
    {
     "name": "stdout",
     "output_type": "stream",
     "text": [
      "PASS — Navigated to cart page.\n",
      "Browser Console Logs:\n",
      "{'level': 'SEVERE', 'message': 'https://events.backtrace.io/api/unique-events/submit?universe=UNIVERSE&token=TOKEN - Failed to load resource: the server responded with a status of 401 (Unauthorized)', 'source': 'network', 'timestamp': 1753204058033}\n",
      "{'level': 'SEVERE', 'message': 'https://events.backtrace.io/api/summed-events/submit?universe=UNIVERSE&token=TOKEN - Failed to load resource: the server responded with a status of 401 (Unauthorized)', 'source': 'network', 'timestamp': 1753204058033}\n",
      "{'level': 'SEVERE', 'message': 'https://events.backtrace.io/api/unique-events/submit?universe=UNIVERSE&token=TOKEN - Failed to load resource: the server responded with a status of 401 (Unauthorized)', 'source': 'network', 'timestamp': 1753204058033}\n",
      "{'level': 'SEVERE', 'message': 'https://events.backtrace.io/api/summed-events/submit?universe=UNIVERSE&token=TOKEN - Failed to load resource: the server responded with a status of 401 (Unauthorized)', 'source': 'network', 'timestamp': 1753204058033}\n",
      "{'level': 'SEVERE', 'message': 'https://events.backtrace.io/api/unique-events/submit?universe=UNIVERSE&token=TOKEN - Failed to load resource: the server responded with a status of 401 (Unauthorized)', 'source': 'network', 'timestamp': 1753204058033}\n",
      "{'level': 'SEVERE', 'message': 'https://events.backtrace.io/api/summed-events/submit?universe=UNIVERSE&token=TOKEN - Failed to load resource: the server responded with a status of 401 (Unauthorized)', 'source': 'network', 'timestamp': 1753204058033}\n"
     ]
    }
   ],
   "execution_count": 88
  },
  {
   "metadata": {},
   "cell_type": "markdown",
   "source": "TC-FR16-003\n",
   "id": "6581ccd66b8b18d8"
  },
  {
   "metadata": {
    "ExecuteTime": {
     "end_time": "2025-07-22T17:08:55.084821Z",
     "start_time": "2025-07-22T17:08:48.445578Z"
    }
   },
   "cell_type": "code",
   "source": [
    "driver = webdriver.Chrome(options=options)\n",
    "driver.get('https://www.saucedemo.com/')\n",
    "\n",
    "name_input = driver.find_element(By.NAME, \"user-name\")\n",
    "name_input.send_keys(\"standard_user\")\n",
    "\n",
    "password_input= driver.find_element(By.NAME, \"password\")\n",
    "password_input.send_keys(\"secret_sauce\")\n",
    "\n",
    "driver.find_element(By.NAME, \"login-button\").click()\n",
    "\n",
    "driver.find_element(By.ID, \"add-to-cart-sauce-labs-backpack\").click()\n",
    "driver.find_element(By.ID, \"add-to-cart-sauce-labs-bike-light\").click()\n",
    "driver.find_element(By.ID, \"add-to-cart-test.allthethings()-t-shirt-(red)\").click()\n",
    "\n",
    "driver.find_element(By.CLASS_NAME, \"shopping_cart_link\").click()\n",
    "driver.find_element(By.ID, \"checkout\").click()\n",
    "\n",
    "driver.find_element(By.ID, \"continue\").click()\n",
    "\n",
    "try:\n",
    "\n",
    "    print(\"PASS — Flow executed successfully.\")\n",
    "\n",
    "except Exception as e:\n",
    "    print(\"FAIL — Test encountered an issue.\")\n",
    "    print(\"Error:\", e)\n",
    "\n",
    "finally:\n",
    "    try:\n",
    "        logs = driver.get_log('browser')\n",
    "        print(\"Browser Console Logs:\")\n",
    "        for log in logs:\n",
    "            print(log)\n",
    "    except Exception as log_error:\n",
    "        print(\"Could not retrieve browser logs.\")\n",
    "        print(\"Log Error:\", log_error)\n",
    "\n",
    "time.sleep(2)\n",
    "driver.quit()"
   ],
   "id": "d601b06508c1cc08",
   "outputs": [
    {
     "name": "stdout",
     "output_type": "stream",
     "text": [
      "PASS — Flow executed successfully.\n",
      "Browser Console Logs:\n"
     ]
    }
   ],
   "execution_count": 89
  },
  {
   "metadata": {},
   "cell_type": "markdown",
   "source": "TC-FR17-001",
   "id": "29d0432d53fcee1d"
  },
  {
   "metadata": {
    "ExecuteTime": {
     "end_time": "2025-07-23T02:44:55.882029Z",
     "start_time": "2025-07-23T02:44:51.554417Z"
    }
   },
   "cell_type": "code",
   "source": [
    "driver = webdriver.Chrome(options=options)\n",
    "driver.get('https://www.saucedemo.com/')\n",
    "\n",
    "name_input = driver.find_element(By.NAME, \"user-name\")\n",
    "name_input.send_keys(\"standard_user\")\n",
    "\n",
    "password_input= driver.find_element(By.NAME, \"password\")\n",
    "password_input.send_keys(\"secret_sauce\")\n",
    "\n",
    "driver.find_element(By.NAME, \"login-button\").click()\n",
    "\n",
    "driver.find_element(By.ID, \"react-burger-menu-btn\").click()\n",
    "\n",
    "time.sleep(2)\n",
    "\n",
    "driver.find_element(By.ID, \"react-burger-cross-btn\").click()\n",
    "\n",
    "try:\n",
    "    print(\"PASS — Navigation menu opened and closed successfully.\")\n",
    "\n",
    "except Exception as e:\n",
    "    print(\"FAIL — Navigation menu test encountered an issue.\")\n",
    "    print(\"Error:\", e)\n",
    "\n",
    "finally:\n",
    "    try:\n",
    "        logs = driver.get_log('browser')\n",
    "        print(\"Browser Console Logs:\")\n",
    "        for log in logs:\n",
    "            print(log)\n",
    "    except Exception as log_error:\n",
    "        print(\"Could not retrieve browser logs.\")\n",
    "        print(\"Log Error:\", log_error)"
   ],
   "id": "6dfe61601e93f716",
   "outputs": [
    {
     "name": "stdout",
     "output_type": "stream",
     "text": [
      "PASS — Navigation menu opened and closed successfully.\n",
      "Browser Console Logs:\n",
      "{'level': 'SEVERE', 'message': 'https://events.backtrace.io/api/unique-events/submit?universe=UNIVERSE&token=TOKEN - Failed to load resource: the server responded with a status of 401 (Unauthorized)', 'source': 'network', 'timestamp': 1753238695828}\n",
      "{'level': 'SEVERE', 'message': 'https://events.backtrace.io/api/summed-events/submit?universe=UNIVERSE&token=TOKEN - Failed to load resource: the server responded with a status of 401 (Unauthorized)', 'source': 'network', 'timestamp': 1753238695828}\n"
     ]
    }
   ],
   "execution_count": 6
  },
  {
   "metadata": {},
   "cell_type": "markdown",
   "source": "TC-FR17-002 - FAIL(N/A)\n",
   "id": "a65d179a291b1162"
  },
  {
   "metadata": {},
   "cell_type": "markdown",
   "source": "TC-FR17-003",
   "id": "4dbfec8298b0aebf"
  },
  {
   "metadata": {
    "ExecuteTime": {
     "end_time": "2025-07-23T02:45:02.696067Z",
     "start_time": "2025-07-23T02:44:58.521472Z"
    }
   },
   "cell_type": "code",
   "source": [
    "driver.find_element(By.ID, \"react-burger-menu-btn\").click()\n",
    "time.sleep(2)\n",
    "driver.find_element(By.ID, \"logout_sidebar_link\").click()\n",
    "time.sleep(2)\n",
    "\n",
    "try:\n",
    "    current_url = driver.current_url\n",
    "    if \"https://www.saucedemo.com/\" == current_url:\n",
    "        print(\"PASS — Successfully logged out and returned to login page.\")\n",
    "    else:\n",
    "        print(\"FAIL — Logout did not redirect to login page.\")\n",
    "\n",
    "except Exception as e:\n",
    "    print(\"FAIL — Error during logout test.\")\n",
    "    print(\"Error:\", e)\n",
    "\n",
    "finally:\n",
    "    try:\n",
    "        logs = driver.get_log('browser')\n",
    "        print(\"Browser Console Logs:\")\n",
    "        for log in logs:\n",
    "            print(log)\n",
    "    except Exception as log_error:\n",
    "        print(\"Could not retrieve browser logs.\")\n",
    "        print(\"Log Error:\", log_error)"
   ],
   "id": "f390598ea2b27461",
   "outputs": [
    {
     "name": "stdout",
     "output_type": "stream",
     "text": [
      "PASS — Successfully logged out and returned to login page.\n",
      "Browser Console Logs:\n"
     ]
    }
   ],
   "execution_count": 7
  },
  {
   "metadata": {},
   "cell_type": "markdown",
   "source": "TC-FR17-004",
   "id": "1e96fb6822e0670a"
  },
  {
   "metadata": {
    "ExecuteTime": {
     "end_time": "2025-07-23T02:45:12.695834Z",
     "start_time": "2025-07-23T02:45:05.330833Z"
    }
   },
   "cell_type": "code",
   "source": [
    "name_input = driver.find_element(By.NAME, \"user-name\")\n",
    "name_input.send_keys(\"standard_user\")\n",
    "\n",
    "password_input= driver.find_element(By.NAME, \"password\")\n",
    "password_input.send_keys(\"secret_sauce\")\n",
    "\n",
    "driver.find_element(By.NAME, \"login-button\").click()\n",
    "\n",
    "driver.find_element(By.ID, \"add-to-cart-sauce-labs-backpack\").click()\n",
    "driver.find_element(By.ID, \"add-to-cart-sauce-labs-bike-light\").click()\n",
    "driver.find_element(By.ID, \"add-to-cart-test.allthethings()-t-shirt-(red)\").click()\n",
    "\n",
    "driver.find_element(By.ID, \"react-burger-menu-btn\").click()\n",
    "time.sleep(2)\n",
    "\n",
    "driver.find_element(By.ID, \"reset_sidebar_link\").click()\n",
    "\n",
    "\n",
    "try:\n",
    "    driver.find_element(By.CLASS_NAME, \"shopping_cart_badge\")\n",
    "    print(\"PASS — Cart successfully cleared after reset.\")\n",
    "except:\n",
    "    print(\"FAIL — Did not reset remove button.\")\n",
    "\n",
    "finally:\n",
    "    try:\n",
    "        logs = driver.get_log('browser')\n",
    "        print(\"\\nBrowser Console Logs:\")\n",
    "        for log in logs:\n",
    "            print(log)\n",
    "    except Exception as log_error:\n",
    "        print(\"Could not retrieve browser logs.\")\n",
    "        print(\"Log Error:\", log_error)\n",
    "\n",
    "time.sleep(2)\n",
    "driver.quit()"
   ],
   "id": "c749af494c768ff",
   "outputs": [
    {
     "name": "stdout",
     "output_type": "stream",
     "text": [
      "FAIL — Did not reset remove button.\n",
      "\n",
      "Browser Console Logs:\n",
      "{'level': 'SEVERE', 'message': 'https://events.backtrace.io/api/unique-events/submit?universe=UNIVERSE&token=TOKEN - Failed to load resource: the server responded with a status of 401 (Unauthorized)', 'source': 'network', 'timestamp': 1753238706256}\n",
      "{'level': 'SEVERE', 'message': 'https://events.backtrace.io/api/summed-events/submit?universe=UNIVERSE&token=TOKEN - Failed to load resource: the server responded with a status of 401 (Unauthorized)', 'source': 'network', 'timestamp': 1753238708395}\n"
     ]
    }
   ],
   "execution_count": 8
  }
 ],
 "metadata": {
  "kernelspec": {
   "display_name": "Python 3",
   "language": "python",
   "name": "python3"
  },
  "language_info": {
   "codemirror_mode": {
    "name": "ipython",
    "version": 2
   },
   "file_extension": ".py",
   "mimetype": "text/x-python",
   "name": "python",
   "nbconvert_exporter": "python",
   "pygments_lexer": "ipython2",
   "version": "2.7.6"
  }
 },
 "nbformat": 4,
 "nbformat_minor": 5
}
